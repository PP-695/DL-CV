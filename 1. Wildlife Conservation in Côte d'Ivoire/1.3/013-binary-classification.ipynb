{
 "cells": [
  {
   "cell_type": "markdown",
   "metadata": {
    "deletable": false,
    "editable": false
   },
   "source": [
    "<p>\n",
    "  <b>AI Lab: Deep Learning for Computer Vision</b><br>\n",
    "  <b><a href=\"https://www.wqu.edu/\">WorldQuant University</a></b>\n",
    "</p>"
   ]
  },
  {
   "cell_type": "markdown",
   "metadata": {
    "deletable": false,
    "editable": false
   },
   "source": [
    "<div class=\"alert alert-success\" role=\"alert\">\n",
    "  <p>\n",
    "    <center><b>Usage Guidelines</b></center>\n",
    "  </p>\n",
    "  <p>\n",
    "    This file is licensed under <a href=\"https://creativecommons.org/licenses/by-nc-nd/4.0/\">Creative Commons Attribution-NonCommercial-NoDerivatives 4.0 International</a>.\n",
    "  </p>\n",
    "  <p>\n",
    "    You <b>can</b>:\n",
    "    <ul>\n",
    "      <li><span style=\"color: green\">✓</span> Download this file</li>\n",
    "      <li><span style=\"color: green\">✓</span> Post this file in public repositories</li>\n",
    "    </ul>\n",
    "    You <b>must always</b>:\n",
    "    <ul>\n",
    "      <li><span style=\"color: green\">✓</span> Give credit to <a href=\"https://www.wqu.edu/\">WorldQuant University</a> for the creation of this file</li>\n",
    "      <li><span style=\"color: green\">✓</span> Provide a <a href=\"https://creativecommons.org/licenses/by-nc-nd/4.0/\">link to the license</a></li>\n",
    "    </ul>\n",
    "    You <b>cannot</b>:\n",
    "    <ul>\n",
    "      <li><span style=\"color: red\">✗</span> Create derivatives or adaptations of this file</li>\n",
    "      <li><span style=\"color: red\">✗</span> Use this file for commercial purposes</li>\n",
    "    </ul>\n",
    "  </p>\n",
    "  <p>\n",
    "    Failure to follow these guidelines is a violation of your terms of service and could lead to your expulsion from WorldQuant University and the revocation your certificate.\n",
    "  </p>\n",
    "</div>"
   ]
  },
  {
   "cell_type": "markdown",
   "metadata": {},
   "source": [
    "### Getting Ready"
   ]
  },
  {
   "cell_type": "markdown",
   "metadata": {},
   "source": [
    "Just like in the last lesson, there are a few things we need to do before we can begin. We'll start by importing the packages we'll need for this lesson."
   ]
  },
  {
   "cell_type": "code",
   "execution_count": null,
   "metadata": {},
   "outputs": [
    {
     "ename": "",
     "evalue": "",
     "output_type": "error",
     "traceback": [
      "\u001b[1;31mRunning cells with 'Python 3.12.6' requires the ipykernel package.\n",
      "\u001b[1;31mRun the following command to install 'ipykernel' into the Python environment. \n",
      "\u001b[1;31mCommand: 'c:/python.exe -m pip install ipykernel -U --user --force-reinstall'"
     ]
    }
   ],
   "source": [
    "import os\n",
    "import sys\n",
    "from collections import Counter\n",
    "\n",
    "import cv2\n",
    "import matplotlib\n",
    "import matplotlib.pyplot as plt\n",
    "import numpy as np\n",
    "import pandas as pd\n",
    "import PIL\n",
    "import sklearn\n",
    "import torch\n",
    "import torch.nn as nn\n",
    "import torch.nn.functional as F\n",
    "import torch.optim as optim\n",
    "import torchinfo\n",
    "import torchvision\n",
    "from PIL import Image\n",
    "from sklearn.metrics import ConfusionMatrixDisplay, confusion_matrix\n",
    "from torch.utils.data import DataLoader, random_split\n",
    "from torchinfo import summary\n",
    "from torchvision import datasets, transforms\n",
    "from tqdm.notebook import tqdm\n",
    "from tqdm.version import __version__ as tqdm__version__\n",
    "\n",
    "torch.backends.cudnn.deterministic = True"
   ]
  },
  {
   "cell_type": "markdown",
   "metadata": {},
   "source": [
    "Next, we'll print out the version numbers for our libraries, including Python. We want to make sure that anyone who reviews our work knows exactly what software we used in case they want to reproduce our analysis."
   ]
  },
  {
   "cell_type": "code",
   "execution_count": null,
   "metadata": {},
   "outputs": [],
   "source": [
    "print(\"Platform:\", sys.platform)\n",
    "print(\"Python version:\", sys.version)\n",
    "print(\"---\")\n",
    "print(\"CV2 version : \", cv2.__version__)\n",
    "print(\"matplotlib version : \", matplotlib.__version__)\n",
    "print(\"numpy version : \", np.__version__)\n",
    "print(\"torch version : \", torch.__version__)\n",
    "print(\"torchinfo version : \", torchinfo.__version__)\n",
    "print(\"torchvision version : \", torchvision.__version__)\n",
    "print(\"PIL version : \", PIL.__version__)\n",
    "print(\"scikit-learn version: \", sklearn.__version__)\n",
    "print(\"tqdm version: \", tqdm__version__)"
   ]
  },
  {
   "cell_type": "markdown",
   "metadata": {},
   "source": [
    "Last (this is a new step), we'll check if GPUs are available. Remember from the last lesson that GPUs allow us to build our models more quickly compared to the CPU. Some computers come with GPUs, which allow for bigger and faster model building. In PyTorch, the `cuda` package is used to access GPUs on Linux and Windows machines; `mps` is used on Macs. \n",
    "\n",
    "We'll use the `device` variable later to set the location of our data and model."
   ]
  },
  {
   "cell_type": "code",
   "execution_count": null,
   "metadata": {},
   "outputs": [],
   "source": [
    "if torch.cuda.is_available():\n",
    "    device = \"cuda\"\n",
    "elif torch.backends.mps.is_available():\n",
    "    device = \"mps\"\n",
    "else:\n",
    "    device = \"cpu\"\n",
    "\n",
    "\n",
    "\n",
    "print(f\"Using {device} device.\")"
   ]
  },
  {
   "cell_type": "markdown",
   "metadata": {},
   "source": [
    "### Exploring Our Data"
   ]
  },
  {
   "cell_type": "markdown",
   "metadata": {},
   "source": [
    "Our goal is to build a model that can identify wildlife in photos taken by automated surveillance systems, also called \"camera traps.\"\n",
    "\n",
    "We downloaded the data in the previous lesson. Here, we'll use the data in the `data_binary` folder. It's already broken up in a training set in `train`."
   ]
  },
  {
   "cell_type": "markdown",
   "metadata": {},
   "source": [
    "**Task 1.3.1:** Assign `train_dir` the path to the training data. Follow the pattern of `data_dir`."
   ]
  },
  {
   "cell_type": "code",
   "execution_count": null,
   "metadata": {},
   "outputs": [],
   "source": [
    "data_dir = os.path.join(\"data_p1\", \"data_binary\")\n",
    "train_dir = os.path.join(data_dir,\"train\")\n",
    "\n",
    "print(\"Data Directory:\", data_dir)\n",
    "print(\"Training Data Directory:\", train_dir)"
   ]
  },
  {
   "cell_type": "markdown",
   "metadata": {},
   "source": [
    "Since we're doing binary classification, we'll have two different labels. The data for each label is separated into their own folder. The name of the folder corresponds to the name of the label."
   ]
  },
  {
   "cell_type": "code",
   "execution_count": null,
   "metadata": {},
   "outputs": [],
   "source": [
    "labels = os.listdir(train_dir)\n",
    "labels"
   ]
  },
  {
   "cell_type": "markdown",
   "metadata": {},
   "source": [
    "From the names, our training data falls into two classes. We have either an image of a hog or an image where there's no animal present (`\"blank\"`). We want our model to distinguish between these two types of images. We call this task binary classification."
   ]
  },
  {
   "cell_type": "markdown",
   "metadata": {},
   "source": [
    "Let's find out how many images we have for each label. We can do so with `listdir` function, which lists the names of all files in a folder. We can then check the length of the returned list."
   ]
  },
  {
   "cell_type": "markdown",
   "metadata": {},
   "source": [
    "**Task 1.3.2:**  Determine the number of blank images in the training data and assign the result to `blank_images`. Use the code for `hog_images` as a model."
   ]
  },
  {
   "cell_type": "code",
   "execution_count": null,
   "metadata": {},
   "outputs": [],
   "source": [
    "hog_path = os.path.join(train_dir, \"hog\")\n",
    "hog_images = os.listdir(hog_path)\n",
    "print(\"length of hog images: \", len(hog_images))\n",
    "\n",
    "blank_path = os.path.join(train_dir,\"blank\")\n",
    "blank_images = os.listdir(blank_path)\n",
    "print(\"length of blank images: \", len(blank_images))\n"
   ]
  },
  {
   "cell_type": "markdown",
   "metadata": {},
   "source": [
    "Looks like there are more \"blank\" than \"hog\" images. This makes sense as there might be a lot of false positives where the camera goes off when no animal is in the frame."
   ]
  },
  {
   "cell_type": "markdown",
   "metadata": {},
   "source": [
    "Let's look at the path of one image for each label."
   ]
  },
  {
   "cell_type": "markdown",
   "metadata": {},
   "source": [
    "**Task 1.3.3:** Display the path of one image of the blank class. We've illustrated how this is done for the hog class."
   ]
  },
  {
   "cell_type": "code",
   "execution_count": null,
   "metadata": {},
   "outputs": [],
   "source": [
    "hog_image_name = hog_images[0]\n",
    "print(hog_image_name)\n",
    "\n",
    "hog_image_path = os.path.join(hog_path, hog_image_name)\n",
    "print(hog_image_path)\n",
    "\n",
    "blank_image_name = blank_images[0]\n",
    "print(blank_image_name)\n",
    "\n",
    "blank_image_path = os.path.join(blank_path, blank_image_name)\n",
    "print(blank_image_path)"
   ]
  },
  {
   "cell_type": "markdown",
   "metadata": {},
   "source": [
    " Recall how the mode describes the pixel data of the images. In the past, we've seen both grayscale and red green blue (RGB). It's also important to check out the size of the images."
   ]
  },
  {
   "cell_type": "markdown",
   "metadata": {},
   "source": [
    "**Task 1.3.4:** Print out the mode and size for the blank image sample. We've shown how this is done for the hog sample."
   ]
  },
  {
   "cell_type": "code",
   "execution_count": null,
   "metadata": {},
   "outputs": [],
   "source": [
    "hog_img_pil = Image.open(hog_image_path)\n",
    "print(\"Hog image: \", hog_img_pil.mode, hog_img_pil.size)\n",
    "\n",
    "blank_img_pil = Image.open(blank_image_path)\n",
    "print(\"Blank image: \", blank_img_pil.mode,blank_img_pil.size)"
   ]
  },
  {
   "cell_type": "markdown",
   "metadata": {},
   "source": [
    "Let's now see each image using the Pillow package."
   ]
  },
  {
   "cell_type": "code",
   "execution_count": null,
   "metadata": {},
   "outputs": [],
   "source": [
    "hog_img_pil"
   ]
  },
  {
   "cell_type": "markdown",
   "metadata": {},
   "source": [
    "Do you see the hog? We see something in the frame that could possibly be an animal. At least it'll take us some time to decide if it's really a hog. We're starting to see the advantage of having a computer identify if there's a hog in the image. A human manually reviewing images may have missed the hog, especially if they're going through the images quickly. Of course, we need to actually build a system that will perform well and identify images where the hog can be easily missed."
   ]
  },
  {
   "cell_type": "code",
   "execution_count": null,
   "metadata": {},
   "outputs": [],
   "source": [
    "blank_img_pil"
   ]
  },
  {
   "cell_type": "markdown",
   "metadata": {},
   "source": [
    "There doesn't appear to be a hog in this image. A computer can quickly return whether the image is blank but a human may spend several seconds or even longer to make sure there's no hog."
   ]
  },
  {
   "cell_type": "markdown",
   "metadata": {},
   "source": [
    "### Preparing Our Data"
   ]
  },
  {
   "cell_type": "markdown",
   "metadata": {},
   "source": [
    "We need to make sure all of our images are in the same mode. We want to make sure they're in RGB format. If not, we'll need to convert them. In fact, our sample hog image was in grayscale, denoted by the \"L\" for its mode value. We'll create a custom transformer that will convert an image to RGB mode if it's not."
   ]
  },
  {
   "cell_type": "code",
   "execution_count": null,
   "metadata": {},
   "outputs": [],
   "source": [
    "class ConvertToRGB:\n",
    "    def __call__(self, img):\n",
    "        if img.mode != \"RGB\":\n",
    "            img = img.convert(\"RGB\")\n",
    "        return img"
   ]
  },
  {
   "cell_type": "markdown",
   "metadata": {},
   "source": [
    "We're using the special method `__call__` which makes it a callable class. In other words, it acts like a function. We need this method to use `ConvertToRGB` in our preprocessing pipeline."
   ]
  },
  {
   "cell_type": "markdown",
   "metadata": {},
   "source": [
    "Remember how we previously used utilities from the `torchvision` package. We'll use `transforms.Compose` to create a \"pipeline\" of preprocessing sets. The steps defined (in order) will be:\n",
    "\n",
    "* Convert image (if needed) to RGB\n",
    "* Resize the image\n",
    "* Convert the images to PyTorch tensors\n",
    "\n",
    "Afterwards, we'll load the data and apply the transformation pipeline."
   ]
  },
  {
   "cell_type": "markdown",
   "metadata": {},
   "source": [
    "**Task 1.3.5:** Add the missing last step where we convert images to PyTorch tensors. In a previous lesson we used `transform.ToTensor` to accomplish the conversion."
   ]
  },
  {
   "cell_type": "code",
   "execution_count": null,
   "metadata": {},
   "outputs": [],
   "source": [
    "# Define transformation to apply to the images\n",
    "transform = transforms.Compose(\n",
    "    [\n",
    "        ConvertToRGB(),  # Convert images to RGB format if not already\n",
    "        transforms.Resize((224, 224)),  # Resize images to 224x224\n",
    "        # Convert images to tensors\n",
    "        transforms.ToTensor()\n",
    "\n",
    "    ]\n",
    ")\n",
    "\n",
    "print(type(transform))\n",
    "print(transform)"
   ]
  },
  {
   "cell_type": "markdown",
   "metadata": {},
   "source": [
    "<div class=\"alert alert-info\" role=\"alert\">\n",
    "You might be wondering why we need to resize the images. Unfortunately, the images are not all the same shape.  You might have remembered how the two sample images we looked at were different shapes. We saw this when we opened the images in the notebook. Inconsistent image dimensions is common when we gather data from various sources. For deep learning, we need a lot of data so we can't be too picky and remove data that differ in shape. The solution to the inconsistent shape is convert all images to a standard size.\n",
    "</div>"
   ]
  },
  {
   "cell_type": "markdown",
   "metadata": {},
   "source": [
    "Now we'll load the data by using `datasets` from the `torchvision` package."
   ]
  },
  {
   "cell_type": "code",
   "execution_count": null,
   "metadata": {},
   "outputs": [],
   "source": [
    "# Load the dataset using `ImageFolder`\n",
    "dataset = datasets.ImageFolder(root=train_dir, transform=transform)\n",
    "print(dataset)"
   ]
  },
  {
   "cell_type": "markdown",
   "metadata": {},
   "source": [
    "The `dataset` object has the attribute `.classes` which returns a list of distinct classes."
   ]
  },
  {
   "cell_type": "code",
   "execution_count": null,
   "metadata": {},
   "outputs": [],
   "source": [
    "dataset.classes"
   ]
  },
  {
   "cell_type": "markdown",
   "metadata": {},
   "source": [
    "The `.imgs` attribute is a list of tuples of path to image and label. The label value will be a number. Since we're doing binary classification, there will only be two distinct numbers. Those numbers are 0 and 1."
   ]
  },
  {
   "cell_type": "markdown",
   "metadata": {},
   "source": [
    "**Task 1.3.6:** Prove that the only distinct values of `im` are `0` and `1`. You should use a `set` data structure."
   ]
  },
  {
   "cell_type": "code",
   "execution_count": null,
   "metadata": {},
   "outputs": [],
   "source": [
    "im = dataset.imgs\n",
    "print(im[0])\n",
    "\n",
    "distinct_classes = {x[1] for x in im}\n",
    "print(distinct_classes)"
   ]
  },
  {
   "cell_type": "markdown",
   "metadata": {},
   "source": [
    "As we're doing supervised machine learning, we need to perform a train/validation split. A validation set is used to help choose our model when training. \n",
    "\n",
    "It's typical to use an 80/20 split. The `random_split` function will help us perform the split."
   ]
  },
  {
   "cell_type": "code",
   "execution_count": null,
   "metadata": {},
   "outputs": [],
   "source": [
    "# Important, don't change this!\n",
    "g = torch.Generator()\n",
    "g.manual_seed(42)\n",
    "\n",
    "train_dataset, val_dataset = random_split(dataset, [0.8, 0.2], generator=g)"
   ]
  },
  {
   "cell_type": "markdown",
   "metadata": {},
   "source": [
    "Now let's inspect the sizes of the splits."
   ]
  },
  {
   "cell_type": "markdown",
   "metadata": {},
   "source": [
    "**Task 1.3.7:**  Print out the length of the validation dataset. We've done so for the training set."
   ]
  },
  {
   "cell_type": "code",
   "execution_count": null,
   "metadata": {},
   "outputs": [],
   "source": [
    "print(f\"Length of training set: {len(train_dataset)}\")\n"
   ]
  },
  {
   "cell_type": "markdown",
   "metadata": {},
   "source": [
    "It's good to explore the data. We'll create a visualization to show the breakdown of the two classes. The function below goes through the dataset and counts how many images are in each class."
   ]
  },
  {
   "cell_type": "code",
   "execution_count": null,
   "metadata": {},
   "outputs": [],
   "source": [
    "def class_counts(dataset):\n",
    "    c = Counter(x[1] for x in tqdm(dataset))\n",
    "    class_to_index = dataset.dataset.class_to_idx\n",
    "    return pd.Series({cat: c[idx] for cat, idx in class_to_index.items()})"
   ]
  },
  {
   "cell_type": "code",
   "execution_count": null,
   "metadata": {},
   "outputs": [],
   "source": [
    "train_counts = class_counts(train_dataset)\n",
    "train_counts"
   ]
  },
  {
   "cell_type": "markdown",
   "metadata": {},
   "source": [
    "The pandas built-in plotting can make a nice visualization out of it."
   ]
  },
  {
   "cell_type": "code",
   "execution_count": null,
   "metadata": {},
   "outputs": [],
   "source": [
    "train_counts.sort_values().plot(kind=\"bar\");"
   ]
  },
  {
   "cell_type": "markdown",
   "metadata": {},
   "source": [
    "**Task 1.3.8:** Use the function and pandas to make the same plot for the validation data."
   ]
  },
  {
   "cell_type": "code",
   "execution_count": null,
   "metadata": {},
   "outputs": [],
   "source": [
    "val_counts = class_counts(val_dataset)\n",
    "\n",
    "# Make a bar chart from the function output\n",
    "val_counts.sort_values().plot(kind=\"bar\")"
   ]
  },
  {
   "cell_type": "markdown",
   "metadata": {},
   "source": [
    "From both visualizations, we see two things:\n",
    "* About two-thirds of the data is the \"blank\" label.\n",
    "* Both the training and validation set are similarly distributed."
   ]
  },
  {
   "cell_type": "markdown",
   "metadata": {},
   "source": [
    "We're closer to training a model. The next step is to create `DataLoader` objects. These objects are iterables that work well with PyTorch when training. We'll use a batch size of 32, which is standard for neural networks. The main difference between the `DataLoader` for training and validation is that shuffling is turned on for training. Turning on shuffling for the training data randomly rearranges the data after we have gone over all of the batches. Shuffling prevents any particular batch of data from having too much influence on the training."
   ]
  },
  {
   "cell_type": "markdown",
   "metadata": {},
   "source": [
    "**Task 1.3.9:** Create the validation loader. Make sure to set shuffling to be off."
   ]
  },
  {
   "cell_type": "code",
   "execution_count": null,
   "metadata": {
    "jp-MarkdownHeadingCollapsed": true
   },
   "outputs": [],
   "source": [
    "# Important, don't change this!\n",
    "g = torch.Generator()\n",
    "g.manual_seed(42)\n",
    "\n",
    "batch_size = 32\n",
    "train_loader = DataLoader(train_dataset, batch_size=batch_size, shuffle=True, generator=g)\n",
    "\n",
    "val_loader = DataLoader(val_dataset,batch_size=batch_size,shuffle = False)\n",
    "\n",
    "print(type(val_loader))"
   ]
  },
  {
   "cell_type": "markdown",
   "metadata": {},
   "source": [
    "Now with the `DataLoader` objects, we'll show they're iterables by using `iter` and `next`. There's no need to do this all the time, we're just exploring how PyTorch will make use of the `DataLoader` objects. `iter` returns an _iterator_. This iterator will give us the _next_ value in an iteration.\n",
    "\n",
    "We'll get one sample batch of images and labels and make sure the dimensions match what we expect. One batch of images should be a 4D tensor with dimension `[32, 3, 224, 224]`. This is because we set the batch to 32, we have RGB images that have 3 color channels, and our images have height 224 and width 224. \n",
    "\n",
    "One batch of labels should be a one dimensional tensor of length 32."
   ]
  },
  {
   "cell_type": "markdown",
   "metadata": {},
   "source": [
    "**Task 1.3.10:** Print the shape of a batch of images and the shape of a batch of labels."
   ]
  },
  {
   "cell_type": "code",
   "execution_count": null,
   "metadata": {},
   "outputs": [],
   "source": [
    "data_iter = iter(train_loader)\n",
    "images, labels = next(data_iter)\n",
    "\n",
    "# This gives you [batch_size, channels, height, width] for images\n",
    "image_shape = images.shape\n",
    "print(\"Shape of batch of images\", image_shape)\n",
    "\n",
    "# This gives you [batch_size] for labels\n",
    "label_shape = labels.shape\n",
    "print(\"Shape of batch of labels:\", label_shape)"
   ]
  },
  {
   "cell_type": "markdown",
   "metadata": {},
   "source": [
    "Let's examine the `labels` tensor to make sure it's nothing but ones and zeros."
   ]
  },
  {
   "cell_type": "code",
   "execution_count": null,
   "metadata": {},
   "outputs": [],
   "source": [
    "labels\n"
   ]
  },
  {
   "cell_type": "markdown",
   "metadata": {},
   "source": [
    "### Building a Shallow Neural Network"
   ]
  },
  {
   "cell_type": "markdown",
   "metadata": {},
   "source": [
    "We're now ready to create our first neural network model. The model will be a shallow fully connected network. It'll not have too many layers, in fact, it'll have four. Here's the architecture:\n",
    "- The input layer\n",
    "- Two hidden layers\n",
    "- The output layer\n",
    "\n",
    "The image below is an example of our architecture. Note, the image shows fewer neurons than what we'll build as it's hard to visualize a model with many neurons. The important part is that we have an input layer, two hidden layers, and two nodes for the output layer."
   ]
  },
  {
   "cell_type": "markdown",
   "metadata": {},
   "source": [
    "\n",
    "<img src=\"./full_nn_two_hidden_layers.png\" alt=\"Shallow neural network with two hidden layers\" width=\"400\"/>"
   ]
  },
  {
   "cell_type": "markdown",
   "metadata": {},
   "source": [
    "Our input data are images. Each image is a 3D tensor. The shape is 3 x 224 x 224. But there's one problem. This neural network can't accept images in two dimensions. We need to first _flatten_ the image. As you can imagine, we lose some information when we flatten the image. In a later lesson, we'll see a better neural network architecture at preserving the spatial relational data that is lost when flattening.\n",
    "\n",
    "Let's walk through the flattening process with `images`. Convenient for us, `images` is already a PyTorch tensor. In the previous task, we determined that its shape is $32 \\times 3 \\times 224 \\times 224$. The first dimension represents the number of images we have in the batch. If we flatten our images, we should get a tensor of 32 x 150528. Why 150528? It's the product of $3 \\times 224 \\times 224$. Each image, instead of being three dimensional, will now just have one dimension."
   ]
  },
  {
   "cell_type": "markdown",
   "metadata": {},
   "source": [
    "**Task 1.3.11:** Flatten the image and print out the resulting shape of the tensor. Use the `nn.Flatten` class to flatten."
   ]
  },
  {
   "cell_type": "code",
   "execution_count": null,
   "metadata": {},
   "outputs": [],
   "source": [
    "flatten = nn.Flatten()\n",
    "tensor_flatten = flatten(images)\n",
    "\n",
    "# Print the shape of the flattened tensor\n",
    "tensor_flatten.shape"
   ]
  },
  {
   "cell_type": "markdown",
   "metadata": {},
   "source": [
    "Flattening the images is the first step or layer of our model. However, it'll be tedious if we have to manually apply all the layers of our network. Instead we'll use the `nn.Sequential` class from PyTorch.  It offers an easy way to define the architecture.  As the name suggests, this class takes a sequence of layers and runs the data through them in order.  The following cell mostly defines the model, but we intentionally left out the output layer for now. We will add it later in the next task (discussed below)."
   ]
  },
  {
   "cell_type": "code",
   "execution_count": null,
   "metadata": {},
   "outputs": [],
   "source": [
    "# Image size from our transformer\n",
    "height = 224\n",
    "width = 224\n",
    "\n",
    "model = nn.Sequential(\n",
    "    nn.Flatten(),\n",
    "    nn.Linear(3 * height * width, 512),\n",
    "    nn.ReLU(),\n",
    "    nn.Linear(512, 128),\n",
    "    nn.ReLU(),\n",
    ")\n",
    "\n",
    "print(\"model type:\", type(model))\n",
    "print(\"model structure:\")\n",
    "print(model)"
   ]
  },
  {
   "cell_type": "markdown",
   "metadata": {},
   "source": [
    "Now let's add the last layer needed for the model. That layer is a `nn.Linear` with an input size of 128 and an output size of 2. Additional layers can be added/appended to a model with `model.append`. "
   ]
  },
  {
   "cell_type": "markdown",
   "metadata": {},
   "source": [
    "**Task 1.3.12:** Create the output layer. The last line of the cell below will append it to the model."
   ]
  },
  {
   "cell_type": "code",
   "execution_count": null,
   "metadata": {},
   "outputs": [],
   "source": [
    "output_layer = nn.Linear(128,2)\n",
    "model.append(output_layer)\n",
    "\n",
    "print(model)"
   ]
  },
  {
   "cell_type": "markdown",
   "metadata": {},
   "source": [
    "We can see three different types of layers being used:\n",
    "- `nn.Flatten` flattens the three-dimensional input tensors to the one-dimensional tensors that the next layers expect.\n",
    "- `nn.Linear` is a standard dense, or fully-connected, layer.  It takes two arguments, the number of inputs coming into this layer and the number of outputs produced by this layer.\n",
    "- `nn.ReLU` performs the _rectified linear unit_ activation.  Activation functions are necessary for neural networks to work, and ReLU is a popular choice.\n",
    "\n",
    "The last `nn.Linear` is our output layer.  It must have 128 inputs, to match the output of the preceding layer, and it must have 2 outputs to match the two classes. Note that there's no activation function applied after the output layer.  This means that the outputs of this layer are the _logits_.  Later on, these logits will be the input to a normalization function, called softmax in this case, that will turn the logits into probabilities."
   ]
  },
  {
   "cell_type": "markdown",
   "metadata": {},
   "source": [
    "The model will run much more quickly on the GPU."
   ]
  },
  {
   "cell_type": "markdown",
   "metadata": {},
   "source": [
    "**Task 1.3.13:**  Use `model.to` function to place the model on `device`."
   ]
  },
  {
   "cell_type": "code",
   "execution_count": null,
   "metadata": {},
   "outputs": [],
   "source": [
    "model.to(torch.device(device))\n",
    "\n",
    "print(model)"
   ]
  },
  {
   "cell_type": "markdown",
   "metadata": {},
   "source": [
    "Great! The output of the previous cell outlines our architecture. We can get a more detailed look with the `summary` function."
   ]
  },
  {
   "cell_type": "code",
   "execution_count": null,
   "metadata": {},
   "outputs": [],
   "source": [
    "summary(model, input_size=(batch_size, 3, height, width))"
   ]
  },
  {
   "cell_type": "markdown",
   "metadata": {},
   "source": [
    "Several things to notice from above:\n",
    "* how many parameters we have for each layer\n",
    "* how many multiplication and addition operations we're going to perform\n",
    "* the total size of our model\n",
    "\n",
    "Even for a shallow network of just two hidden layers we have over 77 million parameters. This number far exceeds anything you may have worked with in machine learning models that aren't neural networks. You can begin to see why we need to use a specialized package for building and training neural network models."
   ]
  },
  {
   "cell_type": "markdown",
   "metadata": {},
   "source": [
    "### Training Our Model"
   ]
  },
  {
   "cell_type": "markdown",
   "metadata": {},
   "source": [
    "There are several pieces we need beyond the model object. First, we need to define a loss function. The loss function measures how well our model does for a given set of model parameters. The chosen loss function, cross-entropy, is pretty standard. It's the same loss function used for simpler machine learning models such as logistic regression.  Note that this function expects the input to be logits from our model."
   ]
  },
  {
   "cell_type": "code",
   "execution_count": null,
   "metadata": {},
   "outputs": [],
   "source": [
    "loss_fn = nn.CrossEntropyLoss()"
   ]
  },
  {
   "cell_type": "markdown",
   "metadata": {},
   "source": [
    "We also need an optimizer.  This will adjust the model's parameters to try to minimize the loss function.  We've chosen the Adam optimizer, a popular optimizer. The Adam optimizer is a gradient based optimizer like stochastic gradient descent. The Adam optimizer has additional features that make it less likely to get stuck in a local minimum. It converges to a better state faster than standard stochastic gradient descent. The `optim.Adam` class is initialized with the model parameters through `model.parameters`. An optional argument is the learning rate `lr`. This controls how large the step sizes are in gradient descent. Keeping the default value will be fine for our purposes. We've explicitly specified the default value in this case."
   ]
  },
  {
   "cell_type": "code",
   "execution_count": null,
   "metadata": {},
   "outputs": [],
   "source": [
    "# Define an optimizer\n",
    "optimizer = optim.Adam(model.parameters(), lr=0.001)"
   ]
  },
  {
   "cell_type": "markdown",
   "metadata": {},
   "source": [
    "Now we'll create a function called `train_epoch` that encapsulates the training process. The code is daunting at first but we're going to break it down. The function accepts\n",
    "- `model`: The PyTorch model we built with a specific architecture\n",
    "- `optimizer`: The optimizer that will be used to best adjust the model weights\n",
    "- `loss_fn`: The loss function that the optimizer is trying to minimize\n",
    "- `data_loader`: The `DataLoader` object for the training dataset that makes it easy to iterate over batches\n",
    "- `device`: The device where we're going to place the tensors\n",
    "\n",
    "The function returns the average loss function on the training data over the entire epoch.  Later, we'll use this to see if the model is making progress in the training process."
   ]
  },
  {
   "cell_type": "code",
   "execution_count": null,
   "metadata": {},
   "outputs": [],
   "source": [
    "def train_epoch(model, optimizer, loss_fn, data_loader, device=\"cpu\"):\n",
    "    # We'll report the loss function's average value at the end of the epoch.\n",
    "    training_loss = 0.0\n",
    "\n",
    "    # The train method simply sets the model in training mode. No training\n",
    "    # has happened.\n",
    "    model.train()\n",
    "\n",
    "    # We iterate over all batches in the training set to complete one epoch\n",
    "    for inputs, targets in tqdm(data_loader, desc=\"Training\", leave=False):\n",
    "        # Sets the gradients to zero. We need to do this every time.\n",
    "        optimizer.zero_grad()\n",
    "\n",
    "        # Unpack images (X) and labels (y) from the batch and add those\n",
    "        # tensors to the specified device.\n",
    "        inputs = inputs.to(device)\n",
    "        targets = targets.to(device)\n",
    "\n",
    "        # We make a forward pass through the network and obtain the logits.\n",
    "        # With the logits, we can calculate our loss.\n",
    "        output = model(inputs)\n",
    "        loss = loss_fn(output, targets)\n",
    "\n",
    "        # After calculating our loss, we calculate the numerical value of\n",
    "        # the derivative of our loss function with respect to all the\n",
    "        # trainable model weights. Once we have the gradients calculated,\n",
    "        # we let the optimizer take a \"step\", in other words, update or\n",
    "        # adjust the model weights.\n",
    "        loss.backward()\n",
    "        optimizer.step()\n",
    "\n",
    "        # We increment the training loss for the current batch\n",
    "        training_loss += loss.data.item() * inputs.size(0)\n",
    "\n",
    "    # We calculate the training loss over the completed epoch\n",
    "    return training_loss / len(data_loader.dataset)"
   ]
  },
  {
   "cell_type": "markdown",
   "metadata": {},
   "source": [
    "<div class=\"alert alert-info\" role=\"alert\">\n",
    "The <code>tqdm</code> function that is wrapped around the <code>data_loader</code> will give us a progress bar that fills up as we process the data.  It's not necessary for the training process.  It's just there to reassure us that something is actually happening!\n",
    "</div>"
   ]
  },
  {
   "cell_type": "markdown",
   "metadata": {},
   "source": [
    "We'll train the model for one epoch. The `train_epoch` function returns the average training loss, cross-entropy, for the epoch."
   ]
  },
  {
   "cell_type": "code",
   "execution_count": null,
   "metadata": {},
   "outputs": [],
   "source": [
    "loss_value = train_epoch(model, optimizer, loss_fn, train_loader, device)\n",
    "print(f\"The average loss during the training epoch was {loss_value:.2f}.\")"
   ]
  },
  {
   "cell_type": "markdown",
   "metadata": {},
   "source": [
    "A nice feature of neural networks is that when we do another training run, it doesn't start training from scratch. In other words, training resumes from the current weights and continues to adjust the weights to improve the model's performance."
   ]
  },
  {
   "cell_type": "markdown",
   "metadata": {},
   "source": [
    "Now it's your turn to train the model!"
   ]
  },
  {
   "cell_type": "markdown",
   "metadata": {},
   "source": [
    "**Task 1.3.14:** Train the model using a single epoch with the *training data*. Print out the model's loss."
   ]
  },
  {
   "cell_type": "code",
   "execution_count": null,
   "metadata": {},
   "outputs": [],
   "source": [
    "loss_value = train_epoch(model, optimizer, loss_fn, train_loader, device)\n",
    "print(f\"The average loss during the training epoch was {loss_value:.2f}.\")"
   ]
  },
  {
   "cell_type": "markdown",
   "metadata": {},
   "source": [
    "The loss function we're using in this problem, the cross-entropy, is difficult for humans to interpret.  We know that lower is better, but is that number good or bad?  To help us humans judge, we'll calculate the accuracy of the model, the fraction of predictions it gets right.  To do that, we need the model to make predictions.\n",
    "\n",
    "The following function will make a prediction for each row of data in `data_loader`, using `model`.  As with the `train_epoch` function above, it's a bit daunting.  The comments explain what each section does."
   ]
  },
  {
   "cell_type": "code",
   "execution_count": null,
   "metadata": {},
   "outputs": [],
   "source": [
    "def predict(model, data_loader, device=\"cpu\"):\n",
    "    # This tensor will store all of the predictions.\n",
    "    all_probs = torch.tensor([]).to(device)\n",
    "\n",
    "    # We set the model to evaluation mode. This mode is the opposite of\n",
    "    # train mode we set in the train_epoch function.\n",
    "    model.eval()\n",
    "\n",
    "    # Since we're not training, we don't need any gradient calculations.\n",
    "    # This tells PyTorch not to calculate any gradients, which speeds up\n",
    "    # some calculations.\n",
    "    with torch.no_grad():\n",
    "\n",
    "        # Again, we iterate over the batches in the data loader and feed\n",
    "        # them into the model for the forward pass.\n",
    "        for inputs, targets in tqdm(data_loader, desc=\"Predicting\", leave=False):\n",
    "            inputs = inputs.to(device)\n",
    "            output = model(inputs)\n",
    "\n",
    "            # The model produces the logits.  This softmax function turns the\n",
    "            # logits into probabilities.  These probabilities are concatenated\n",
    "            # into the `all_probs` tensor.\n",
    "            probs = F.softmax(output, dim=1)\n",
    "            all_probs = torch.cat((all_probs, probs), dim=0)\n",
    "\n",
    "    return all_probs"
   ]
  },
  {
   "cell_type": "markdown",
   "metadata": {},
   "source": [
    "We'll demo using the function above with the *training data*."
   ]
  },
  {
   "cell_type": "code",
   "execution_count": null,
   "metadata": {},
   "outputs": [],
   "source": [
    "probabilities_train = predict(model, train_loader, device)\n",
    "print(probabilities_train.shape)"
   ]
  },
  {
   "cell_type": "markdown",
   "metadata": {},
   "source": [
    "The first dimension of this tensor is the same as the size of our data set because it has made a prediction for each row."
   ]
  },
  {
   "cell_type": "code",
   "execution_count": null,
   "metadata": {},
   "outputs": [],
   "source": [
    "len(train_loader.dataset)"
   ]
  },
  {
   "cell_type": "markdown",
   "metadata": {},
   "source": [
    "**Task 1.3.15:** Make a prediction for each row of the *validation data*."
   ]
  },
  {
   "cell_type": "code",
   "execution_count": null,
   "metadata": {},
   "outputs": [],
   "source": [
    "probabilities_val = predict(model, val_loader, device)\n",
    "print(probabilities_val.shape)"
   ]
  },
  {
   "cell_type": "markdown",
   "metadata": {},
   "source": [
    "What are the predictions that `predict` returned? Let's take a closer look."
   ]
  },
  {
   "cell_type": "code",
   "execution_count": null,
   "metadata": {},
   "outputs": [],
   "source": [
    "print(probabilities_train[0])"
   ]
  },
  {
   "cell_type": "markdown",
   "metadata": {},
   "source": [
    "We see two numbers here.  The first is the probability that this image is of the first class (\"blank\") and the second is the probability that it's of the second class (\"hog\"). Because these are the only two possibilities, they should add up to one."
   ]
  },
  {
   "cell_type": "code",
   "execution_count": null,
   "metadata": {},
   "outputs": [],
   "source": [
    "probabilities_train[0].sum()"
   ]
  },
  {
   "cell_type": "markdown",
   "metadata": {},
   "source": [
    "**Task 1.3.16:** Print out the prediction for the first row of the validation set."
   ]
  },
  {
   "cell_type": "code",
   "execution_count": null,
   "metadata": {},
   "outputs": [],
   "source": [
    "# Print the probabilities of the first row\n",
    "probabilities_val[0]"
   ]
  },
  {
   "cell_type": "markdown",
   "metadata": {},
   "source": [
    "**Task 1.3.17:** Sum the probabilities to show that they indeed sum to one."
   ]
  },
  {
   "cell_type": "code",
   "execution_count": null,
   "metadata": {},
   "outputs": [],
   "source": [
    "total_probability = probabilities_val[0].sum()\n",
    "print(f\"Sum of probabilities: {total_probability.item()}\")"
   ]
  },
  {
   "cell_type": "markdown",
   "metadata": {},
   "source": [
    "To make a prediction from these probabilities, we predict the class with the highest probability for each row.  This can be done with the `torch.argmax` function, like so:"
   ]
  },
  {
   "cell_type": "code",
   "execution_count": null,
   "metadata": {},
   "outputs": [],
   "source": [
    "predictions_train = torch.argmax(probabilities_train, dim=1)\n",
    "\n",
    "print(f\"Predictions shape: {predictions_train.shape}\")\n",
    "print(f\"First 10 predictions: {predictions_train[:10]}\")"
   ]
  },
  {
   "cell_type": "markdown",
   "metadata": {},
   "source": [
    "**Task 1.3.18:** Predict the most likely class label using the validation set."
   ]
  },
  {
   "cell_type": "code",
   "execution_count": null,
   "metadata": {},
   "outputs": [],
   "source": [
    "predictions_val = torch.argmax(probabilities_val, dim=1)\n",
    "\n",
    "print(f\"Predictions shape: {predictions_val.shape}\")\n",
    "print(f\"First 10 predictions: {predictions_val[:10]}\")"
   ]
  },
  {
   "cell_type": "markdown",
   "metadata": {},
   "source": [
    "We'll compare the training set predictions to the actual class labels for the training set. The `torch.eq` function will help with this. We'll find the fraction that are correct. This is the accuracy."
   ]
  },
  {
   "cell_type": "code",
   "execution_count": null,
   "metadata": {},
   "outputs": [],
   "source": [
    "targets_train = torch.cat([labels for _, labels in train_loader]).to(device)\n",
    "is_correct_train = torch.eq(predictions_train, targets_train)\n",
    "total_correct_train = torch.sum(is_correct_train).item()\n",
    "accuracy_train = total_correct_train / len(train_loader.dataset)\n",
    "\n",
    "print(f\"Accuracy on the training data: {accuracy_train}\")"
   ]
  },
  {
   "cell_type": "markdown",
   "metadata": {},
   "source": [
    "**Task 1.3.19:**  Calculate the accuracy of the model on the validation set."
   ]
  },
  {
   "cell_type": "code",
   "execution_count": null,
   "metadata": {},
   "outputs": [],
   "source": [
    "targets_val = torch.cat([labels for _,labels in val_loader]).to(device)\n",
    "is_correct_val = torch.eq(predictions_val,targets_val)\n",
    "total_correct_val =  torch.sum(is_correct_val).item()\n",
    "accuracy_val = total_correct_val / len(val_loader.dataset)\n",
    "\n",
    "print(f\"Accuracy on the validation data: {accuracy_val}\")"
   ]
  },
  {
   "cell_type": "markdown",
   "metadata": {},
   "source": [
    "There was a lot of work we did to get the accuracy. It's more efficient to do this calculation batch by batch. It's best we wrap that code into a function. The `score` function, below, does just that. It's very similar to the prediction function, but instead of gathering all the predictions, it just calculates the number of correct predictions in each batch.  It also calculates the loss function over the whole batch. We'll use this to compare the loss function value on the training set and the validation set, to understand if there's any overfitting."
   ]
  },
  {
   "cell_type": "code",
   "execution_count": null,
   "metadata": {},
   "outputs": [],
   "source": [
    "def score(model, data_loader, loss_fn, device=\"cpu\"):\n",
    "    # Initialize the total loss (cross entropy) and the number of correct\n",
    "    # predictions. We'll increment these values as we loop through the\n",
    "    # data.\n",
    "    total_loss = 0\n",
    "    total_correct = 0\n",
    "\n",
    "    # We set the model to evaluation mode. This mode is the opposite of\n",
    "    # train mode we set in the train_epoch function.\n",
    "    model.eval()\n",
    "\n",
    "    # Since we're not training, we don't need any gradient calculations.\n",
    "    # This tells PyTorch not to calculate any gradients, which speeds up\n",
    "    # some calculations.\n",
    "    with torch.no_grad():\n",
    "        # We iterate over the batches in the data loader and feed\n",
    "        # them into the model for the forward pass.\n",
    "        for inputs, targets in tqdm(data_loader, desc=\"Scoring\", leave=False):\n",
    "            inputs = inputs.to(device)\n",
    "            output = model(inputs)\n",
    "\n",
    "            # Calculating the loss function for this batch\n",
    "            targets = targets.to(device)\n",
    "            loss = loss_fn(output, targets)\n",
    "            total_loss += loss.data.item() * inputs.size(0)\n",
    "\n",
    "            # Calculating the correct predictions for this batch\n",
    "            correct = torch.eq(torch.argmax(output, dim=1), targets)\n",
    "            total_correct += torch.sum(correct).item()\n",
    "\n",
    "    return total_loss / len(data_loader.dataset), total_correct / len(\n",
    "        data_loader.dataset\n",
    "    )"
   ]
  },
  {
   "cell_type": "markdown",
   "metadata": {},
   "source": [
    "In the cell below, we show how easy it's to use the `score` function."
   ]
  },
  {
   "cell_type": "code",
   "execution_count": null,
   "metadata": {},
   "outputs": [],
   "source": [
    "loss_train, accuracy_train = score(model, train_loader, loss_fn, device)\n",
    "print(f\"Training accuracy from score function: {accuracy_train}\")"
   ]
  },
  {
   "cell_type": "markdown",
   "metadata": {},
   "source": [
    "**Task 1.3.20:** Use the `score` function on the validation data, and check that we get the same accuracy as we computed above."
   ]
  },
  {
   "cell_type": "code",
   "execution_count": null,
   "metadata": {},
   "outputs": [],
   "source": [
    "loss_val, accuracy_val = score(model, val_loader, loss_fn, device)\n",
    "print(f\"Validation accuracy from score function: {accuracy_val}\")"
   ]
  },
  {
   "cell_type": "markdown",
   "metadata": {},
   "source": [
    "We now have the pieces we need for our training loop.  This loop will run over a number of epochs, calling the `train_epoch` function and the `score` function, and printing out some diagnostic information so we can see how the training is going."
   ]
  },
  {
   "cell_type": "code",
   "execution_count": null,
   "metadata": {},
   "outputs": [],
   "source": [
    "def train(model, optimizer, loss_fn, train_loader, val_loader, epochs=20, device=\"cpu\"):\n",
    "\n",
    "    for epoch in range(1, epochs + 1):\n",
    "        # Run train_epoch once, and capture the training loss.\n",
    "        training_loss = train_epoch(model, optimizer, loss_fn, train_loader, device)\n",
    "\n",
    "        # Score the model on the validation data.\n",
    "        validation_loss, validation_accuracy = score(model, val_loader, loss_fn, device)\n",
    "\n",
    "        print(\n",
    "            f\"Epoch: {epoch}, Training Loss: {training_loss:.2f}, \"\n",
    "            f\"Validation Loss: {validation_loss:.2f}, Validation Accuracy: {validation_accuracy:.2f}\"\n",
    "        )"
   ]
  },
  {
   "cell_type": "markdown",
   "metadata": {},
   "source": [
    "<div class=\"alert alert-info\" role=\"alert\"> <strong>Regarding Model Training Times</strong>\n",
    "\n",
    "In the next few cells you'll experience training a Deep Learning model for the first time. Training models is computationally intensive and can be very time-consuming. The particular model we're dealing with in this notebook is small enough that training takes less than 5 minutes.\n",
    "\n",
    "But in further lessons, training times could last well over one hour.\n",
    "\n",
    "To streamline your learning experience, we are including pre-trained models that you can just load and use without the need to sit and wait for training to finish. The cells to load the model are purposely marked, so you won't miss them.\n",
    "\n",
    "You are free to experience training the models by yourself, <strong>but make sure you load the pre-trained model before continuing, as the graded tasks will depend on this particular model</strong>.\n",
    "\n",
    "Also, are you curious how we have saved the trained model? It'll be explained in detail at the end of this lesson.\n",
    "</div>"
   ]
  },
  {
   "cell_type": "markdown",
   "metadata": {},
   "source": [
    "Now that we've defined the function for training, let's use it."
   ]
  },
  {
   "cell_type": "code",
   "execution_count": null,
   "metadata": {},
   "outputs": [],
   "source": [
    "train(model, optimizer, loss_fn, train_loader, val_loader, epochs=5, device=device)"
   ]
  },
  {
   "cell_type": "markdown",
   "metadata": {},
   "source": [
    "Notice how the training loss goes down and the accuracy goes up after each epoch. Can we do better? Let's try. Recall how a nice feature of neural networks is that we can pause and continue training without having to start from scratch."
   ]
  },
  {
   "cell_type": "markdown",
   "metadata": {},
   "source": [
    "**Task 1.3.21:** Continue training the model for two more epochs."
   ]
  },
  {
   "cell_type": "code",
   "execution_count": null,
   "metadata": {},
   "outputs": [],
   "source": [
    "\n",
    "train(model, optimizer, loss_fn, train_loader, val_loader, epochs=2, device=device)"
   ]
  },
  {
   "cell_type": "markdown",
   "metadata": {},
   "source": [
    "How many epochs should we train for? To answer that question, we need to balance between underfitting and overfitting. For now, we can train for more epochs until we observe the validation score is not improving or is actually getting worse. In future projects, we'll create a visualization called a learning curve to help us decide the correct number of epochs."
   ]
  },
  {
   "cell_type": "markdown",
   "metadata": {},
   "source": [
    "<div class=\"alert alert-warning\" role=\"alert\">\n",
    "<strong>Make sure that you load the pre-trained model running the cell below.</strong>\n",
    "</div>"
   ]
  },
  {
   "cell_type": "markdown",
   "metadata": {},
   "source": [
    "Load the pre-trained model with the following line:"
   ]
  },
  {
   "cell_type": "code",
   "execution_count": null,
   "metadata": {},
   "outputs": [],
   "source": [
    "model = torch.load(\"model/trained_model.pth\", weights_only=False)"
   ]
  },
  {
   "cell_type": "markdown",
   "metadata": {},
   "source": [
    "Now with our model trained we want to see how well it performs."
   ]
  },
  {
   "cell_type": "markdown",
   "metadata": {},
   "source": [
    "**Task 1.3.22:** Make a prediction for each image in the validation set."
   ]
  },
  {
   "cell_type": "code",
   "execution_count": null,
   "metadata": {},
   "outputs": [],
   "source": [
    "probabilities_val = predict(model, val_loader, device)\n",
    "predictions_val =  torch.argmax(probabilities_val, dim=1)\n",
    "print(predictions_val[:10])"
   ]
  },
  {
   "cell_type": "markdown",
   "metadata": {},
   "source": [
    "Accuracy only gives us a simplified view of how well the model performed. We'd like to see how many of the mistakes were from predicting a hog when it's really not a hog, and vice versus. In short, we want a confusion matrix."
   ]
  },
  {
   "cell_type": "code",
   "execution_count": null,
   "metadata": {},
   "outputs": [],
   "source": [
    "cm = confusion_matrix(targets_val.cpu(), predictions_val.cpu())\n",
    "disp = ConfusionMatrixDisplay(confusion_matrix=cm, display_labels=[\"blank\", \"hog\"])\n",
    "\n",
    "disp.plot(cmap=plt.cm.Blues, xticks_rotation=\"vertical\");"
   ]
  },
  {
   "cell_type": "markdown",
   "metadata": {},
   "source": [
    "69% of our validation data is the blank class. If our errors are proportionally distributed, we should expect about 69% of our errors to be when we predict \"blank\" instead of hog. Are the errors uniformly distributed?\n",
    "\n",
    "Let's run our model on one chosen image of a hog."
   ]
  },
  {
   "cell_type": "code",
   "execution_count": null,
   "metadata": {},
   "outputs": [],
   "source": [
    "img_path = os.path.join(data_dir, \"train/hog/ZJ000072.jpg\")"
   ]
  },
  {
   "cell_type": "code",
   "execution_count": null,
   "metadata": {},
   "outputs": [],
   "source": [
    "from IPython.display import Image as JupyterImage\n",
    "JupyterImage(filename=img_path) "
   ]
  },
  {
   "cell_type": "code",
   "execution_count": null,
   "metadata": {},
   "outputs": [],
   "source": [
    "labels = [\"blank\", \"hog\"]\n",
    "\n",
    "img = Image.open(os.path.join(data_dir, \"train/hog/ZJ000072.jpg\"))\n",
    "img = transform(img).to(device)\n",
    "img = torch.unsqueeze(img, 0)\n",
    "\n",
    "model.eval()\n",
    "prediction = F.softmax(model(img), dim=1)\n",
    "prediction = prediction.argmax()\n",
    "print(labels[prediction])"
   ]
  },
  {
   "cell_type": "markdown",
   "metadata": {},
   "source": [
    "Our model predicted correctly! But how confident was it's prediction? Neural networks are probabilistic classifiers. The probabilities are obtained by running the model outputs through the softmax function."
   ]
  },
  {
   "cell_type": "code",
   "execution_count": null,
   "metadata": {},
   "outputs": [],
   "source": [
    "F.softmax(model(img), dim=1)"
   ]
  },
  {
   "cell_type": "markdown",
   "metadata": {},
   "source": [
    "Looks like our model determines that the probability the image shows a hog is much greater than 50%. It's fairly confident that it's correct. These probabilities are useful as they can help us decide whether we should take any action based on the model's prediction. For example, if images are being collected and analyzed in real time, we may only want to alert conservation staff if we're really confident we have spotted a hog."
   ]
  },
  {
   "cell_type": "markdown",
   "metadata": {},
   "source": [
    "<div class=\"alert alert-info\" role=\"alert\">\n",
    "The training process relies on randomness. There are various sources for this randomness. For example, we shuffle the training data after each epoch. Because of randomness, we're not going to get the same results every time. As a consequence, some results we discuss in the text might be different from what you get when running the notebook. If your results are very different, you should restart the notebook and rerun the cells. \n",
    "</div>"
   ]
  },
  {
   "cell_type": "markdown",
   "metadata": {},
   "source": [
    "### Saving Models\n",
    "We can either save the entire model using `save` or just the parameters using `state_dict`. Using the latter is normally preferable, as it allows you to reuse parameters even if the model's structure changes (or apply parameters from one model to another). Saving the model avoids having to retrain the model the next time we want to use it."
   ]
  },
  {
   "cell_type": "code",
   "execution_count": null,
   "metadata": {},
   "outputs": [],
   "source": [
    "torch.save(model, os.path.join(\"model\", \"shallownet\"))\n",
    "model = torch.load(os.path.join(\"model\", \"shallownet\"))"
   ]
  },
  {
   "cell_type": "code",
   "execution_count": null,
   "metadata": {},
   "outputs": [],
   "source": [
    "torch.save(model.state_dict(), os.path.join(\"model\", \"shallownet\"))\n",
    "new_model = nn.Sequential(\n",
    "    nn.Flatten(),\n",
    "    nn.Linear(3 * height * width, 512),\n",
    "    nn.ReLU(),\n",
    "    nn.Linear(512, 128),\n",
    "    nn.ReLU(),\n",
    "    nn.Linear(128, 2),\n",
    ")\n",
    "model_state_dict = torch.load(os.path.join(\"model\", \"shallownet\"))\n",
    "new_model.load_state_dict(model_state_dict)"
   ]
  },
  {
   "cell_type": "markdown",
   "metadata": {},
   "source": [
    "Great work for making it to the end! There was a lot of new concepts and ideas in this notebook. We also built our very first neural network model. Here are the key ideas from this notebook:\n",
    "\n",
    "* Our data often needs to be preprocessed. In our case, we had to resize to a standard size and make sure all images were in RGB mode. `transform.Compose` made it easy to define a preprocessing pipeline.\n",
    "* The fully connected model is made up of layers where the output of one layer is fully connected to all nodes in the next layer.\n",
    "* We used `nn.Sequential` to easily build our model's architecture by defining the order of the layers.\n",
    "* Training involves iterating through the training set. One pass through the data is called an epoch. An optimizer uses a loss function to determine how to best adjust a model's weights.\n",
    "\n",
    "In the next notebook, we'll move from binary classification to multiclass classification. We'll also build a neural network using an architecture that's more effective for image classification tasks."
   ]
  },
  {
   "cell_type": "markdown",
   "metadata": {
    "deletable": false,
    "editable": false
   },
   "source": [
    "---\n",
    "This file &#169; 2024 by [WorldQuant University](https://www.wqu.edu/) is licensed under [CC BY-NC-ND 4.0](https://creativecommons.org/licenses/by-nc-nd/4.0/)."
   ]
  }
 ],
 "metadata": {
  "kernelspec": {
   "display_name": "Python 3",
   "language": "python",
   "name": "python3"
  },
  "language_info": {
   "codemirror_mode": {
    "name": "ipython",
    "version": 3
   },
   "file_extension": ".py",
   "mimetype": "text/x-python",
   "name": "python",
   "nbconvert_exporter": "python",
   "pygments_lexer": "ipython3",
   "version": "3.12.6"
  },
  "widgets": {
   "application/vnd.jupyter.widget-state+json": {
    "state": {
     "007610bbdd8a41ff963cfa1ccaec53c2": {
      "model_module": "@jupyter-widgets/controls",
      "model_module_version": "2.0.0",
      "model_name": "HTMLStyleModel",
      "state": {
       "description_width": "",
       "font_size": null,
       "text_color": null
      }
     },
     "01a0c89c0c6d43e2bc4ad068d01e9915": {
      "model_module": "@jupyter-widgets/base",
      "model_module_version": "2.0.0",
      "model_name": "LayoutModel",
      "state": {}
     },
     "03a182e6eb9d4820ac68de0ac654a5f8": {
      "model_module": "@jupyter-widgets/controls",
      "model_module_version": "2.0.0",
      "model_name": "HTMLStyleModel",
      "state": {
       "description_width": "",
       "font_size": null,
       "text_color": null
      }
     },
     "04455380411c4a07a99d9fdf9ccecbf2": {
      "model_module": "@jupyter-widgets/controls",
      "model_module_version": "2.0.0",
      "model_name": "HTMLStyleModel",
      "state": {
       "description_width": "",
       "font_size": null,
       "text_color": null
      }
     },
     "04ea52a9e5b94c3cbd1275efb869df0a": {
      "model_module": "@jupyter-widgets/base",
      "model_module_version": "2.0.0",
      "model_name": "LayoutModel",
      "state": {}
     },
     "053248b75a914645b660c31a471249b6": {
      "model_module": "@jupyter-widgets/controls",
      "model_module_version": "2.0.0",
      "model_name": "HTMLModel",
      "state": {
       "layout": "IPY_MODEL_c6825ce1d56945b18ed9438ce06dce7b",
       "style": "IPY_MODEL_55bdba9be476450393af2cb061ba1988",
       "value": "Scoring: 100%"
      }
     },
     "05f95b36d36d45c48f74107c78a4e82d": {
      "model_module": "@jupyter-widgets/base",
      "model_module_version": "2.0.0",
      "model_name": "LayoutModel",
      "state": {
       "visibility": "hidden"
      }
     },
     "063f5429cbac43ab81bad3eccbef12f0": {
      "model_module": "@jupyter-widgets/base",
      "model_module_version": "2.0.0",
      "model_name": "LayoutModel",
      "state": {
       "visibility": "hidden"
      }
     },
     "06ded9ff9a8d41aa95033faf3fe8e255": {
      "model_module": "@jupyter-widgets/base",
      "model_module_version": "2.0.0",
      "model_name": "LayoutModel",
      "state": {
       "visibility": "hidden"
      }
     },
     "094b6d9107b64c34a552eb02c64c6781": {
      "model_module": "@jupyter-widgets/controls",
      "model_module_version": "2.0.0",
      "model_name": "ProgressStyleModel",
      "state": {
       "description_width": ""
      }
     },
     "0a0bd934ba784520be16ae09dbb07112": {
      "model_module": "@jupyter-widgets/controls",
      "model_module_version": "2.0.0",
      "model_name": "FloatProgressModel",
      "state": {
       "layout": "IPY_MODEL_e3a4961c746e4c35895c257ec6fbb6be",
       "max": 20,
       "style": "IPY_MODEL_094b6d9107b64c34a552eb02c64c6781",
       "value": 20
      }
     },
     "0b7ee2f47c5640139b4b5fb92cfb65cf": {
      "model_module": "@jupyter-widgets/controls",
      "model_module_version": "2.0.0",
      "model_name": "HTMLStyleModel",
      "state": {
       "description_width": "",
       "font_size": null,
       "text_color": null
      }
     },
     "0c37aa0587e7409ea5975a90c60d1077": {
      "model_module": "@jupyter-widgets/controls",
      "model_module_version": "2.0.0",
      "model_name": "HTMLModel",
      "state": {
       "layout": "IPY_MODEL_97232082ba134b20a5bfc6ad7d497f92",
       "style": "IPY_MODEL_a84e3928d79b44049105e01b6ccf5fae",
       "value": " 20/20 [00:02&lt;00:00,  7.14it/s]"
      }
     },
     "0c75faea7774411885382a0dc3348a66": {
      "model_module": "@jupyter-widgets/base",
      "model_module_version": "2.0.0",
      "model_name": "LayoutModel",
      "state": {}
     },
     "0dbb307bfef44be4998769b71ec708c2": {
      "model_module": "@jupyter-widgets/controls",
      "model_module_version": "2.0.0",
      "model_name": "HTMLStyleModel",
      "state": {
       "description_width": "",
       "font_size": null,
       "text_color": null
      }
     },
     "0ecb45d2c8674d329c843c84743eefa8": {
      "model_module": "@jupyter-widgets/controls",
      "model_module_version": "2.0.0",
      "model_name": "HTMLModel",
      "state": {
       "layout": "IPY_MODEL_cbf7d45659ed4c31912b54480b9a5316",
       "style": "IPY_MODEL_ae7d476703e54409907ba25ee3234038",
       "value": "Scoring: 100%"
      }
     },
     "1156376c833542baae20c4d56ca3ee7e": {
      "model_module": "@jupyter-widgets/controls",
      "model_module_version": "2.0.0",
      "model_name": "HTMLStyleModel",
      "state": {
       "description_width": "",
       "font_size": null,
       "text_color": null
      }
     },
     "11cdc4682237402d818cf839ba47aa56": {
      "model_module": "@jupyter-widgets/controls",
      "model_module_version": "2.0.0",
      "model_name": "HTMLModel",
      "state": {
       "layout": "IPY_MODEL_7892e34e5be14f6e90e301709bbdd569",
       "style": "IPY_MODEL_923fd31117124906a3c23b53ef3466b3",
       "value": "Predicting: 100%"
      }
     },
     "12bbab172452420fbd0a4f69270d29d6": {
      "model_module": "@jupyter-widgets/base",
      "model_module_version": "2.0.0",
      "model_name": "LayoutModel",
      "state": {
       "visibility": "hidden"
      }
     },
     "13e421349e614c6892ec909cf41ed220": {
      "model_module": "@jupyter-widgets/controls",
      "model_module_version": "2.0.0",
      "model_name": "HTMLModel",
      "state": {
       "layout": "IPY_MODEL_fad6a124a4ea4a768d43e29d83cb02db",
       "style": "IPY_MODEL_35cba90e61484b02abbf945a39b78c9c",
       "value": " 80/80 [00:13&lt;00:00,  6.63it/s]"
      }
     },
     "1512f3b7447947d28393cac195bfada3": {
      "model_module": "@jupyter-widgets/controls",
      "model_module_version": "2.0.0",
      "model_name": "HTMLStyleModel",
      "state": {
       "description_width": "",
       "font_size": null,
       "text_color": null
      }
     },
     "15190f25d9a64900b5c88379de223698": {
      "model_module": "@jupyter-widgets/controls",
      "model_module_version": "2.0.0",
      "model_name": "HTMLModel",
      "state": {
       "layout": "IPY_MODEL_dec7977aa2784a95955179796d847175",
       "style": "IPY_MODEL_d92ef57b875e4971af193a0706f09a61",
       "value": "100%"
      }
     },
     "15fed00239194d29a00d6d9327a530aa": {
      "model_module": "@jupyter-widgets/base",
      "model_module_version": "2.0.0",
      "model_name": "LayoutModel",
      "state": {}
     },
     "18e88c43f6b44dd7a79d1e94c477d0ed": {
      "model_module": "@jupyter-widgets/base",
      "model_module_version": "2.0.0",
      "model_name": "LayoutModel",
      "state": {}
     },
     "19883986424d4c73bb9a97defef92eb7": {
      "model_module": "@jupyter-widgets/controls",
      "model_module_version": "2.0.0",
      "model_name": "ProgressStyleModel",
      "state": {
       "description_width": ""
      }
     },
     "1a6d52dcbed64c519dd945bb22eca8ad": {
      "model_module": "@jupyter-widgets/controls",
      "model_module_version": "2.0.0",
      "model_name": "ProgressStyleModel",
      "state": {
       "description_width": ""
      }
     },
     "1c27646fc7114441aefc4f84fa910701": {
      "model_module": "@jupyter-widgets/base",
      "model_module_version": "2.0.0",
      "model_name": "LayoutModel",
      "state": {
       "visibility": "hidden"
      }
     },
     "1e6ca9e270b6420497cd8c1257f3df9d": {
      "model_module": "@jupyter-widgets/controls",
      "model_module_version": "2.0.0",
      "model_name": "HTMLModel",
      "state": {
       "layout": "IPY_MODEL_a6cca3192fec44389133026c32a8a6f0",
       "style": "IPY_MODEL_ead7b08f14ee4ce1adaf2fef9626efa0",
       "value": " 20/20 [00:02&lt;00:00,  7.50it/s]"
      }
     },
     "20b1faeeaa9148cdba6e7e087c35f171": {
      "model_module": "@jupyter-widgets/base",
      "model_module_version": "2.0.0",
      "model_name": "LayoutModel",
      "state": {
       "visibility": "hidden"
      }
     },
     "218b62b1d695493c8c5b51cdefcc78ae": {
      "model_module": "@jupyter-widgets/controls",
      "model_module_version": "2.0.0",
      "model_name": "FloatProgressModel",
      "state": {
       "layout": "IPY_MODEL_7dc247555ca9413986b34d13c56887cc",
       "max": 80,
       "style": "IPY_MODEL_aa4a7d4aa610423daa7a237d165fa0f9",
       "value": 80
      }
     },
     "22b433f071d24c0b9b4c3d23d2c2aa5d": {
      "model_module": "@jupyter-widgets/base",
      "model_module_version": "2.0.0",
      "model_name": "LayoutModel",
      "state": {}
     },
     "24aade0c8a7a406990c69f136414a48c": {
      "model_module": "@jupyter-widgets/base",
      "model_module_version": "2.0.0",
      "model_name": "LayoutModel",
      "state": {
       "visibility": "hidden"
      }
     },
     "24b3df493e9b418091088f0cda788e04": {
      "model_module": "@jupyter-widgets/controls",
      "model_module_version": "2.0.0",
      "model_name": "HTMLStyleModel",
      "state": {
       "description_width": "",
       "font_size": null,
       "text_color": null
      }
     },
     "24c8cfa0e1a642728956090064ccc8c3": {
      "model_module": "@jupyter-widgets/controls",
      "model_module_version": "2.0.0",
      "model_name": "HTMLStyleModel",
      "state": {
       "description_width": "",
       "font_size": null,
       "text_color": null
      }
     },
     "2585a5839363470ea5ad728298314799": {
      "model_module": "@jupyter-widgets/controls",
      "model_module_version": "2.0.0",
      "model_name": "HTMLModel",
      "state": {
       "layout": "IPY_MODEL_ce587fc1e9e3407aa46746344fa53f7e",
       "style": "IPY_MODEL_edb54d78cf92478b8a5e4ffe0fda1d03",
       "value": " 80/80 [00:10&lt;00:00,  8.08it/s]"
      }
     },
     "25ca21398c3c4bcfa30242a681ce0fb7": {
      "model_module": "@jupyter-widgets/controls",
      "model_module_version": "2.0.0",
      "model_name": "HTMLModel",
      "state": {
       "layout": "IPY_MODEL_88513f7d4f9e4b54807c053659f7ab97",
       "style": "IPY_MODEL_549934ba6e7c4fbeaa10e673f9524309",
       "value": "Training: 100%"
      }
     },
     "26f4581d85194e988588356f36932a0f": {
      "model_module": "@jupyter-widgets/controls",
      "model_module_version": "2.0.0",
      "model_name": "HTMLModel",
      "state": {
       "layout": "IPY_MODEL_a260d9437cad4325a86db9294c1b30d5",
       "style": "IPY_MODEL_41699433961548b6843ad3ea84ff6544",
       "value": "Scoring: 100%"
      }
     },
     "27766470134843c38d517e4bbc7d47f5": {
      "model_module": "@jupyter-widgets/base",
      "model_module_version": "2.0.0",
      "model_name": "LayoutModel",
      "state": {}
     },
     "27807162b7b14494a8f54d36b8b6a8c2": {
      "model_module": "@jupyter-widgets/base",
      "model_module_version": "2.0.0",
      "model_name": "LayoutModel",
      "state": {
       "visibility": "hidden"
      }
     },
     "295583a44eea4c28a23f2a41b4f02036": {
      "model_module": "@jupyter-widgets/base",
      "model_module_version": "2.0.0",
      "model_name": "LayoutModel",
      "state": {}
     },
     "2985104e436e48d2891d095f8bf2951d": {
      "model_module": "@jupyter-widgets/base",
      "model_module_version": "2.0.0",
      "model_name": "LayoutModel",
      "state": {}
     },
     "29c4a89b111e47349fd4b235205f07be": {
      "model_module": "@jupyter-widgets/controls",
      "model_module_version": "2.0.0",
      "model_name": "HTMLModel",
      "state": {
       "layout": "IPY_MODEL_04ea52a9e5b94c3cbd1275efb869df0a",
       "style": "IPY_MODEL_0dbb307bfef44be4998769b71ec708c2",
       "value": " 80/80 [00:13&lt;00:00,  6.18it/s]"
      }
     },
     "2bfba0b6c9df41beb3bead50e726a7d8": {
      "model_module": "@jupyter-widgets/controls",
      "model_module_version": "2.0.0",
      "model_name": "ProgressStyleModel",
      "state": {
       "description_width": ""
      }
     },
     "2c5fb5dc77c5439b86becb54f8c9a4fb": {
      "model_module": "@jupyter-widgets/controls",
      "model_module_version": "2.0.0",
      "model_name": "HTMLModel",
      "state": {
       "layout": "IPY_MODEL_c46830d0fcfb46789d5121a69beb65b5",
       "style": "IPY_MODEL_b5a98021ab2445499d5b03aabd934ac2",
       "value": " 80/80 [00:13&lt;00:00,  6.21it/s]"
      }
     },
     "2c8151c5bb5b47fc8f388e2a40679209": {
      "model_module": "@jupyter-widgets/base",
      "model_module_version": "2.0.0",
      "model_name": "LayoutModel",
      "state": {}
     },
     "2d2ea415f13144ffa1899c847b0388e1": {
      "model_module": "@jupyter-widgets/controls",
      "model_module_version": "2.0.0",
      "model_name": "HTMLModel",
      "state": {
       "layout": "IPY_MODEL_a016d86c15f84fae9b63f3f1b042053f",
       "style": "IPY_MODEL_3968d98978804dc59ed23a062e1b1ce1",
       "value": "Predicting: 100%"
      }
     },
     "2d607b6f3cae41638750ba5f41b96044": {
      "model_module": "@jupyter-widgets/controls",
      "model_module_version": "2.0.0",
      "model_name": "HTMLModel",
      "state": {
       "layout": "IPY_MODEL_fb151b7cd9d54983b2c84cb3f5679887",
       "style": "IPY_MODEL_7b8071767cf141f8b327d98a436c3ff7",
       "value": " 80/80 [00:13&lt;00:00,  6.33it/s]"
      }
     },
     "2ffb0961483c4dfeb38cfc596114be13": {
      "model_module": "@jupyter-widgets/controls",
      "model_module_version": "2.0.0",
      "model_name": "HTMLModel",
      "state": {
       "layout": "IPY_MODEL_22b433f071d24c0b9b4c3d23d2c2aa5d",
       "style": "IPY_MODEL_65995c5647a94d59b4b31bbbe8f7abdd",
       "value": " 20/20 [00:02&lt;00:00,  7.88it/s]"
      }
     },
     "30c135ce8b2c4c58ba0128c9038ba49a": {
      "model_module": "@jupyter-widgets/controls",
      "model_module_version": "2.0.0",
      "model_name": "HTMLStyleModel",
      "state": {
       "description_width": "",
       "font_size": null,
       "text_color": null
      }
     },
     "30ec132aaec3475390047d2514a72ad2": {
      "model_module": "@jupyter-widgets/controls",
      "model_module_version": "2.0.0",
      "model_name": "ProgressStyleModel",
      "state": {
       "description_width": ""
      }
     },
     "31ce378d213948c5a4691240755752bc": {
      "model_module": "@jupyter-widgets/base",
      "model_module_version": "2.0.0",
      "model_name": "LayoutModel",
      "state": {}
     },
     "32f3182c31584e1987d704ac68535be8": {
      "model_module": "@jupyter-widgets/controls",
      "model_module_version": "2.0.0",
      "model_name": "HTMLModel",
      "state": {
       "layout": "IPY_MODEL_d0840eadf53b472bb6453ae18010d4a6",
       "style": "IPY_MODEL_5ed16434435c484fa7a32e2c2963b138",
       "value": "Scoring: 100%"
      }
     },
     "332c9942b6d945808ec5c873aadd03ec": {
      "model_module": "@jupyter-widgets/controls",
      "model_module_version": "2.0.0",
      "model_name": "ProgressStyleModel",
      "state": {
       "description_width": ""
      }
     },
     "35ab3ede3cf04870979c2ad6fb2a592d": {
      "model_module": "@jupyter-widgets/controls",
      "model_module_version": "2.0.0",
      "model_name": "FloatProgressModel",
      "state": {
       "layout": "IPY_MODEL_6f3c04d4c3b941c3a216eb54b36306f3",
       "max": 20,
       "style": "IPY_MODEL_c5adf40ec4314810bd7a8e790322cebf",
       "value": 20
      }
     },
     "35cba90e61484b02abbf945a39b78c9c": {
      "model_module": "@jupyter-widgets/controls",
      "model_module_version": "2.0.0",
      "model_name": "HTMLStyleModel",
      "state": {
       "description_width": "",
       "font_size": null,
       "text_color": null
      }
     },
     "376bfc266acc4902971a0d1b89571aee": {
      "model_module": "@jupyter-widgets/controls",
      "model_module_version": "2.0.0",
      "model_name": "HTMLModel",
      "state": {
       "layout": "IPY_MODEL_7737e31306c4420cbf909a90e0b98c95",
       "style": "IPY_MODEL_c4cbf9e9deea4c22927e2c9b6d1511ec",
       "value": "Scoring: 100%"
      }
     },
     "3968d98978804dc59ed23a062e1b1ce1": {
      "model_module": "@jupyter-widgets/controls",
      "model_module_version": "2.0.0",
      "model_name": "HTMLStyleModel",
      "state": {
       "description_width": "",
       "font_size": null,
       "text_color": null
      }
     },
     "3a02f58bf79244d8af08d4e4cf91d39c": {
      "model_module": "@jupyter-widgets/controls",
      "model_module_version": "2.0.0",
      "model_name": "HTMLModel",
      "state": {
       "layout": "IPY_MODEL_a7a4ed340aab41799e92169a695a23eb",
       "style": "IPY_MODEL_db6415b1875e44f081292ec771bd7ba1",
       "value": "Training: 100%"
      }
     },
     "3ab711a74c31424fac319369f1529199": {
      "model_module": "@jupyter-widgets/base",
      "model_module_version": "2.0.0",
      "model_name": "LayoutModel",
      "state": {}
     },
     "3b2de07539054b58b497fd32022ad76e": {
      "model_module": "@jupyter-widgets/base",
      "model_module_version": "2.0.0",
      "model_name": "LayoutModel",
      "state": {}
     },
     "3e1c68d54d324339b8b38ecb3ed0d554": {
      "model_module": "@jupyter-widgets/controls",
      "model_module_version": "2.0.0",
      "model_name": "HTMLStyleModel",
      "state": {
       "description_width": "",
       "font_size": null,
       "text_color": null
      }
     },
     "3ee52291071a4c02be56a97891316006": {
      "model_module": "@jupyter-widgets/controls",
      "model_module_version": "2.0.0",
      "model_name": "FloatProgressModel",
      "state": {
       "layout": "IPY_MODEL_9f7b8155e6b74f629dbc0fdd57635385",
       "max": 20,
       "style": "IPY_MODEL_408c7a6b99674212bd264ec4b82e30e9",
       "value": 20
      }
     },
     "3fb9e0160ffa4b2c9d77370a49f66bc0": {
      "model_module": "@jupyter-widgets/base",
      "model_module_version": "2.0.0",
      "model_name": "LayoutModel",
      "state": {
       "visibility": "hidden"
      }
     },
     "3fe832b2b61c43b985a23cc8ec676506": {
      "model_module": "@jupyter-widgets/base",
      "model_module_version": "2.0.0",
      "model_name": "LayoutModel",
      "state": {
       "visibility": "hidden"
      }
     },
     "403a90eb8f8c464d976ec7a55a429845": {
      "model_module": "@jupyter-widgets/controls",
      "model_module_version": "2.0.0",
      "model_name": "FloatProgressModel",
      "state": {
       "layout": "IPY_MODEL_f711852f843e44529fa6454989dbcf3e",
       "max": 20,
       "style": "IPY_MODEL_a5f718dc76d64e959deddcdb48c3c47b",
       "value": 20
      }
     },
     "408c7a6b99674212bd264ec4b82e30e9": {
      "model_module": "@jupyter-widgets/controls",
      "model_module_version": "2.0.0",
      "model_name": "ProgressStyleModel",
      "state": {
       "description_width": ""
      }
     },
     "4107aeb707e64dab8b8d0337825167c4": {
      "model_module": "@jupyter-widgets/controls",
      "model_module_version": "2.0.0",
      "model_name": "HTMLModel",
      "state": {
       "layout": "IPY_MODEL_fcadc1dac6d747998d6eaa1d60a78f43",
       "style": "IPY_MODEL_3e1c68d54d324339b8b38ecb3ed0d554",
       "value": " 20/20 [00:02&lt;00:00,  7.82it/s]"
      }
     },
     "41699433961548b6843ad3ea84ff6544": {
      "model_module": "@jupyter-widgets/controls",
      "model_module_version": "2.0.0",
      "model_name": "HTMLStyleModel",
      "state": {
       "description_width": "",
       "font_size": null,
       "text_color": null
      }
     },
     "41ce63833f1b4f8494a7abe48d0ff54a": {
      "model_module": "@jupyter-widgets/controls",
      "model_module_version": "2.0.0",
      "model_name": "HTMLStyleModel",
      "state": {
       "description_width": "",
       "font_size": null,
       "text_color": null
      }
     },
     "420549c07fc84943a892314a23ccedd1": {
      "model_module": "@jupyter-widgets/controls",
      "model_module_version": "2.0.0",
      "model_name": "ProgressStyleModel",
      "state": {
       "description_width": ""
      }
     },
     "4309cff5786c45e681a99bff175873dc": {
      "model_module": "@jupyter-widgets/controls",
      "model_module_version": "2.0.0",
      "model_name": "HTMLStyleModel",
      "state": {
       "description_width": "",
       "font_size": null,
       "text_color": null
      }
     },
     "43500429f5af4becb5d63a45131f1d44": {
      "model_module": "@jupyter-widgets/controls",
      "model_module_version": "2.0.0",
      "model_name": "ProgressStyleModel",
      "state": {
       "description_width": ""
      }
     },
     "44678849ff4f49ed9dcc7cf6613afaff": {
      "model_module": "@jupyter-widgets/controls",
      "model_module_version": "2.0.0",
      "model_name": "FloatProgressModel",
      "state": {
       "layout": "IPY_MODEL_0c75faea7774411885382a0dc3348a66",
       "max": 80,
       "style": "IPY_MODEL_43500429f5af4becb5d63a45131f1d44",
       "value": 80
      }
     },
     "4486f8d8b7254186846242bc16497da4": {
      "model_module": "@jupyter-widgets/base",
      "model_module_version": "2.0.0",
      "model_name": "LayoutModel",
      "state": {}
     },
     "45d0c25333f145998100a78e7718a477": {
      "model_module": "@jupyter-widgets/controls",
      "model_module_version": "2.0.0",
      "model_name": "HTMLModel",
      "state": {
       "layout": "IPY_MODEL_e5d8bc68d7b540038b388d005d1fcd34",
       "style": "IPY_MODEL_8e95ec0d6be84892a627b6fc6140e091",
       "value": " 80/80 [00:10&lt;00:00,  8.29it/s]"
      }
     },
     "46bdc8c7ddfa49c2945809fde317d59c": {
      "model_module": "@jupyter-widgets/base",
      "model_module_version": "2.0.0",
      "model_name": "LayoutModel",
      "state": {
       "visibility": "hidden"
      }
     },
     "4774d60e2bce436884c320f97005a646": {
      "model_module": "@jupyter-widgets/base",
      "model_module_version": "2.0.0",
      "model_name": "LayoutModel",
      "state": {}
     },
     "48232d9833994ff9bf881dbe7c552c91": {
      "model_module": "@jupyter-widgets/base",
      "model_module_version": "2.0.0",
      "model_name": "LayoutModel",
      "state": {}
     },
     "48ac52050a74431aa91e34a06e215baf": {
      "model_module": "@jupyter-widgets/controls",
      "model_module_version": "2.0.0",
      "model_name": "HTMLStyleModel",
      "state": {
       "description_width": "",
       "font_size": null,
       "text_color": null
      }
     },
     "48c8baff8ffa4151ac6a75b93df31b2e": {
      "model_module": "@jupyter-widgets/controls",
      "model_module_version": "2.0.0",
      "model_name": "HTMLStyleModel",
      "state": {
       "description_width": "",
       "font_size": null,
       "text_color": null
      }
     },
     "4a921d7e1ea74c4595d8ff38f632bdc8": {
      "model_module": "@jupyter-widgets/base",
      "model_module_version": "2.0.0",
      "model_name": "LayoutModel",
      "state": {
       "visibility": "hidden"
      }
     },
     "4d31469a9ab04e1a99c4479a744236ff": {
      "model_module": "@jupyter-widgets/base",
      "model_module_version": "2.0.0",
      "model_name": "LayoutModel",
      "state": {}
     },
     "4e02c9e8238b440fabb03be14ef234ba": {
      "model_module": "@jupyter-widgets/base",
      "model_module_version": "2.0.0",
      "model_name": "LayoutModel",
      "state": {
       "visibility": "hidden"
      }
     },
     "4f83442bb77243118ed27de30025afca": {
      "model_module": "@jupyter-widgets/controls",
      "model_module_version": "2.0.0",
      "model_name": "HTMLStyleModel",
      "state": {
       "description_width": "",
       "font_size": null,
       "text_color": null
      }
     },
     "4fcc3d8797c24c93b78ab18126adc370": {
      "model_module": "@jupyter-widgets/base",
      "model_module_version": "2.0.0",
      "model_name": "LayoutModel",
      "state": {
       "visibility": "hidden"
      }
     },
     "50292fde96ea4813bbcab886f1ed9ae9": {
      "model_module": "@jupyter-widgets/controls",
      "model_module_version": "2.0.0",
      "model_name": "HTMLStyleModel",
      "state": {
       "description_width": "",
       "font_size": null,
       "text_color": null
      }
     },
     "546dbb7fbbab48e78e5082554f0eed05": {
      "model_module": "@jupyter-widgets/base",
      "model_module_version": "2.0.0",
      "model_name": "LayoutModel",
      "state": {}
     },
     "549934ba6e7c4fbeaa10e673f9524309": {
      "model_module": "@jupyter-widgets/controls",
      "model_module_version": "2.0.0",
      "model_name": "HTMLStyleModel",
      "state": {
       "description_width": "",
       "font_size": null,
       "text_color": null
      }
     },
     "552ac37d8c2b4414b48bff421042d4df": {
      "model_module": "@jupyter-widgets/base",
      "model_module_version": "2.0.0",
      "model_name": "LayoutModel",
      "state": {
       "visibility": "hidden"
      }
     },
     "556d308f8d5b41db9f0e2a9cfea5c861": {
      "model_module": "@jupyter-widgets/controls",
      "model_module_version": "2.0.0",
      "model_name": "ProgressStyleModel",
      "state": {
       "description_width": ""
      }
     },
     "556f3b747b034ca4a9dce5cb54a0aa31": {
      "model_module": "@jupyter-widgets/controls",
      "model_module_version": "2.0.0",
      "model_name": "ProgressStyleModel",
      "state": {
       "description_width": ""
      }
     },
     "55bdba9be476450393af2cb061ba1988": {
      "model_module": "@jupyter-widgets/controls",
      "model_module_version": "2.0.0",
      "model_name": "HTMLStyleModel",
      "state": {
       "description_width": "",
       "font_size": null,
       "text_color": null
      }
     },
     "56181b90df0c4045a679a42b6fe47a4d": {
      "model_module": "@jupyter-widgets/controls",
      "model_module_version": "2.0.0",
      "model_name": "HTMLModel",
      "state": {
       "layout": "IPY_MODEL_5a55ed931a144f2c8d2da7c9209d2655",
       "style": "IPY_MODEL_be61b98c7e5d4306a91bd21ccac29077",
       "value": " 80/80 [00:13&lt;00:00,  6.40it/s]"
      }
     },
     "56e03a6bad32483fb36d2c80f7034b40": {
      "model_module": "@jupyter-widgets/controls",
      "model_module_version": "2.0.0",
      "model_name": "HTMLModel",
      "state": {
       "layout": "IPY_MODEL_64554c23593248b5bd527140d9ee89c0",
       "style": "IPY_MODEL_f4b83e8093f0468f96ef438ca6213f9f",
       "value": "Predicting: 100%"
      }
     },
     "570ee447c3ac452e8674ae9e159a86ab": {
      "model_module": "@jupyter-widgets/controls",
      "model_module_version": "2.0.0",
      "model_name": "ProgressStyleModel",
      "state": {
       "description_width": ""
      }
     },
     "5716a2967b9b4c8d9df90527557bd38c": {
      "model_module": "@jupyter-widgets/controls",
      "model_module_version": "2.0.0",
      "model_name": "HTMLModel",
      "state": {
       "layout": "IPY_MODEL_fecc5add0f08417188580305dcd91e2d",
       "style": "IPY_MODEL_cdd65622ed544af997a96dd95d005c16",
       "value": " 20/20 [00:02&lt;00:00,  7.69it/s]"
      }
     },
     "58291fb3e2f746f5b307936ba0b287ed": {
      "model_module": "@jupyter-widgets/base",
      "model_module_version": "2.0.0",
      "model_name": "LayoutModel",
      "state": {}
     },
     "58cfd46c024a4272bd5b734e5bdd78ad": {
      "model_module": "@jupyter-widgets/controls",
      "model_module_version": "2.0.0",
      "model_name": "FloatProgressModel",
      "state": {
       "layout": "IPY_MODEL_15fed00239194d29a00d6d9327a530aa",
       "max": 20,
       "style": "IPY_MODEL_d6be3ae972694af7a44e166c9761252f",
       "value": 20
      }
     },
     "59ee1ff921c44116a614294064b73d93": {
      "model_module": "@jupyter-widgets/controls",
      "model_module_version": "2.0.0",
      "model_name": "HTMLModel",
      "state": {
       "layout": "IPY_MODEL_80f05b7468b64227906b23e0378772d4",
       "style": "IPY_MODEL_48c8baff8ffa4151ac6a75b93df31b2e",
       "value": " 20/20 [00:02&lt;00:00,  7.68it/s]"
      }
     },
     "5a55ed931a144f2c8d2da7c9209d2655": {
      "model_module": "@jupyter-widgets/base",
      "model_module_version": "2.0.0",
      "model_name": "LayoutModel",
      "state": {}
     },
     "5e4765e36b7a4e3ba9aaf098cb20d921": {
      "model_module": "@jupyter-widgets/base",
      "model_module_version": "2.0.0",
      "model_name": "LayoutModel",
      "state": {
       "visibility": "hidden"
      }
     },
     "5ea1ca7d7d1c4778829c2f3ae2334a1b": {
      "model_module": "@jupyter-widgets/controls",
      "model_module_version": "2.0.0",
      "model_name": "HTMLModel",
      "state": {
       "layout": "IPY_MODEL_a6e76adf42534cde9b00d2f28e341bef",
       "style": "IPY_MODEL_bc11785dd2d14affa8c4f8598f2a4f7d",
       "value": "Scoring: 100%"
      }
     },
     "5ed16434435c484fa7a32e2c2963b138": {
      "model_module": "@jupyter-widgets/controls",
      "model_module_version": "2.0.0",
      "model_name": "HTMLStyleModel",
      "state": {
       "description_width": "",
       "font_size": null,
       "text_color": null
      }
     },
     "5ee0e9c912a5409fb410f52b2052dd1c": {
      "model_module": "@jupyter-widgets/controls",
      "model_module_version": "2.0.0",
      "model_name": "HTMLModel",
      "state": {
       "layout": "IPY_MODEL_abbb0acdec3645209c6085207be9ead6",
       "style": "IPY_MODEL_94b770c5e92242b2803d10cfb1a76310",
       "value": "Training: 100%"
      }
     },
     "5f69721fce674b0f938a317d8b27a3e5": {
      "model_module": "@jupyter-widgets/controls",
      "model_module_version": "2.0.0",
      "model_name": "HTMLModel",
      "state": {
       "layout": "IPY_MODEL_61825aebd51b4173bec630413c28c64f",
       "style": "IPY_MODEL_04455380411c4a07a99d9fdf9ccecbf2",
       "value": "Training: 100%"
      }
     },
     "5f9b10ff9d2d427886a7ba40e8cb3424": {
      "model_module": "@jupyter-widgets/controls",
      "model_module_version": "2.0.0",
      "model_name": "ProgressStyleModel",
      "state": {
       "description_width": ""
      }
     },
     "61825aebd51b4173bec630413c28c64f": {
      "model_module": "@jupyter-widgets/base",
      "model_module_version": "2.0.0",
      "model_name": "LayoutModel",
      "state": {}
     },
     "637595b0e77a49a6a2c2c99efe581416": {
      "model_module": "@jupyter-widgets/controls",
      "model_module_version": "2.0.0",
      "model_name": "HTMLModel",
      "state": {
       "layout": "IPY_MODEL_7ffb364d62c048fdb82e487469c12288",
       "style": "IPY_MODEL_41ce63833f1b4f8494a7abe48d0ff54a",
       "value": "Scoring: 100%"
      }
     },
     "64554c23593248b5bd527140d9ee89c0": {
      "model_module": "@jupyter-widgets/base",
      "model_module_version": "2.0.0",
      "model_name": "LayoutModel",
      "state": {}
     },
     "65995c5647a94d59b4b31bbbe8f7abdd": {
      "model_module": "@jupyter-widgets/controls",
      "model_module_version": "2.0.0",
      "model_name": "HTMLStyleModel",
      "state": {
       "description_width": "",
       "font_size": null,
       "text_color": null
      }
     },
     "662b544bb99a4b1c88f9abe3c82d2608": {
      "model_module": "@jupyter-widgets/controls",
      "model_module_version": "2.0.0",
      "model_name": "HTMLModel",
      "state": {
       "layout": "IPY_MODEL_bc80514e3bff406589cda391cb2b9086",
       "style": "IPY_MODEL_bb1dbb04b1a341aea8e5a4ea772093c7",
       "value": " 20/20 [00:02&lt;00:00,  7.61it/s]"
      }
     },
     "6639dbfdeb23427c98aaa789e3108bcd": {
      "model_module": "@jupyter-widgets/controls",
      "model_module_version": "2.0.0",
      "model_name": "FloatProgressModel",
      "state": {
       "layout": "IPY_MODEL_58291fb3e2f746f5b307936ba0b287ed",
       "max": 20,
       "style": "IPY_MODEL_96e4abd5da56441babd709e18f94b66a",
       "value": 20
      }
     },
     "6673e45cbd0a48598bb6525921ed98f8": {
      "model_module": "@jupyter-widgets/controls",
      "model_module_version": "2.0.0",
      "model_name": "HTMLStyleModel",
      "state": {
       "description_width": "",
       "font_size": null,
       "text_color": null
      }
     },
     "66edb3b8819f4d1796d47ea168db8c10": {
      "model_module": "@jupyter-widgets/base",
      "model_module_version": "2.0.0",
      "model_name": "LayoutModel",
      "state": {
       "visibility": "hidden"
      }
     },
     "679654ecf9694694bae3fa2a14a895b5": {
      "model_module": "@jupyter-widgets/base",
      "model_module_version": "2.0.0",
      "model_name": "LayoutModel",
      "state": {}
     },
     "6be1f82dd2b24ff79c1959ee5f0110a2": {
      "model_module": "@jupyter-widgets/base",
      "model_module_version": "2.0.0",
      "model_name": "LayoutModel",
      "state": {}
     },
     "6bfb635c5d874f989e8ef07e43943c7a": {
      "model_module": "@jupyter-widgets/base",
      "model_module_version": "2.0.0",
      "model_name": "LayoutModel",
      "state": {}
     },
     "6c02570ec0644dbdb35874edae4174b9": {
      "model_module": "@jupyter-widgets/controls",
      "model_module_version": "2.0.0",
      "model_name": "HTMLModel",
      "state": {
       "layout": "IPY_MODEL_b1d25d1dd94c4c37ae56910c36a59281",
       "style": "IPY_MODEL_92a58d7816cd4311b3177a001135ae9d",
       "value": "Training: 100%"
      }
     },
     "6c856706127a445ba753073b6fba6356": {
      "model_module": "@jupyter-widgets/base",
      "model_module_version": "2.0.0",
      "model_name": "LayoutModel",
      "state": {
       "visibility": "hidden"
      }
     },
     "6d278c6174b94e46a4effd7366fa0346": {
      "model_module": "@jupyter-widgets/base",
      "model_module_version": "2.0.0",
      "model_name": "LayoutModel",
      "state": {}
     },
     "6d33e08d1a224c9e896797ef4df6f25a": {
      "model_module": "@jupyter-widgets/controls",
      "model_module_version": "2.0.0",
      "model_name": "HTMLStyleModel",
      "state": {
       "description_width": "",
       "font_size": null,
       "text_color": null
      }
     },
     "6dc4d7e0eb6d4d168d44430392644eeb": {
      "model_module": "@jupyter-widgets/controls",
      "model_module_version": "2.0.0",
      "model_name": "HTMLModel",
      "state": {
       "layout": "IPY_MODEL_d97c6788b07e4590b70cdf8e01549233",
       "style": "IPY_MODEL_0b7ee2f47c5640139b4b5fb92cfb65cf",
       "value": " 20/20 [00:02&lt;00:00,  7.77it/s]"
      }
     },
     "6dd4ddd7c363495383f7c5b1d70560e2": {
      "model_module": "@jupyter-widgets/base",
      "model_module_version": "2.0.0",
      "model_name": "LayoutModel",
      "state": {
       "visibility": "hidden"
      }
     },
     "6e5f4c7e95104cbd9c6c21d81a3b9bf9": {
      "model_module": "@jupyter-widgets/controls",
      "model_module_version": "2.0.0",
      "model_name": "HTMLStyleModel",
      "state": {
       "description_width": "",
       "font_size": null,
       "text_color": null
      }
     },
     "6f3c04d4c3b941c3a216eb54b36306f3": {
      "model_module": "@jupyter-widgets/base",
      "model_module_version": "2.0.0",
      "model_name": "LayoutModel",
      "state": {}
     },
     "70693443d6c64d9aba46166fa80562ad": {
      "model_module": "@jupyter-widgets/controls",
      "model_module_version": "2.0.0",
      "model_name": "ProgressStyleModel",
      "state": {
       "description_width": ""
      }
     },
     "7405bc5f5e994b298b15d9fa5c6726a8": {
      "model_module": "@jupyter-widgets/base",
      "model_module_version": "2.0.0",
      "model_name": "LayoutModel",
      "state": {}
     },
     "74b6b1c7028a4aecaa0fdfd2fcfdc83e": {
      "model_module": "@jupyter-widgets/controls",
      "model_module_version": "2.0.0",
      "model_name": "FloatProgressModel",
      "state": {
       "layout": "IPY_MODEL_d4479a7aacfc449d90df333a2c40c000",
       "max": 20,
       "style": "IPY_MODEL_963199f6ba624430b4d2ff83d4eaa432",
       "value": 20
      }
     },
     "74e65a24de644dbba0c411b3b7cb4047": {
      "model_module": "@jupyter-widgets/base",
      "model_module_version": "2.0.0",
      "model_name": "LayoutModel",
      "state": {
       "visibility": "hidden"
      }
     },
     "76ac635da7ad47ec907232905fdb49d0": {
      "model_module": "@jupyter-widgets/controls",
      "model_module_version": "2.0.0",
      "model_name": "FloatProgressModel",
      "state": {
       "layout": "IPY_MODEL_b913d6c06e654a61980b83cbc90e85c6",
       "max": 80,
       "style": "IPY_MODEL_d8b89f48f5c348818eff32d59ecbfb7a",
       "value": 80
      }
     },
     "7737e31306c4420cbf909a90e0b98c95": {
      "model_module": "@jupyter-widgets/base",
      "model_module_version": "2.0.0",
      "model_name": "LayoutModel",
      "state": {}
     },
     "779cb01982984a47bf21ab000c6dbb41": {
      "model_module": "@jupyter-widgets/controls",
      "model_module_version": "2.0.0",
      "model_name": "ProgressStyleModel",
      "state": {
       "description_width": ""
      }
     },
     "77aa98bad4f94c0c88bb14f10ecd7a1c": {
      "model_module": "@jupyter-widgets/controls",
      "model_module_version": "2.0.0",
      "model_name": "HTMLModel",
      "state": {
       "layout": "IPY_MODEL_48232d9833994ff9bf881dbe7c552c91",
       "style": "IPY_MODEL_c16e1ad0b27d4b7bad367619ea28892e",
       "value": "Training: 100%"
      }
     },
     "77d8b198faa64090a5105e09fd4ac4e9": {
      "model_module": "@jupyter-widgets/base",
      "model_module_version": "2.0.0",
      "model_name": "LayoutModel",
      "state": {}
     },
     "77fab4075f574a4e8867933c9fd53263": {
      "model_module": "@jupyter-widgets/controls",
      "model_module_version": "2.0.0",
      "model_name": "FloatProgressModel",
      "state": {
       "layout": "IPY_MODEL_be05b944acfc422d8d2d1bc6881ad206",
       "max": 20,
       "style": "IPY_MODEL_70693443d6c64d9aba46166fa80562ad",
       "value": 20
      }
     },
     "7892e34e5be14f6e90e301709bbdd569": {
      "model_module": "@jupyter-widgets/base",
      "model_module_version": "2.0.0",
      "model_name": "LayoutModel",
      "state": {}
     },
     "789f8e0b47874e2a908f46e0391a7e9f": {
      "model_module": "@jupyter-widgets/controls",
      "model_module_version": "2.0.0",
      "model_name": "FloatProgressModel",
      "state": {
       "layout": "IPY_MODEL_dfddebad68424ce588408729e280fd3e",
       "max": 80,
       "style": "IPY_MODEL_30ec132aaec3475390047d2514a72ad2",
       "value": 80
      }
     },
     "78bda903c01f44f68bd6f43c6000a8c3": {
      "model_module": "@jupyter-widgets/base",
      "model_module_version": "2.0.0",
      "model_name": "LayoutModel",
      "state": {}
     },
     "7968713eea0d4ef4856efaf3f3ba7020": {
      "model_module": "@jupyter-widgets/controls",
      "model_module_version": "2.0.0",
      "model_name": "HTMLStyleModel",
      "state": {
       "description_width": "",
       "font_size": null,
       "text_color": null
      }
     },
     "7ad62d89fa924c95a6b8a4f95b82415c": {
      "model_module": "@jupyter-widgets/base",
      "model_module_version": "2.0.0",
      "model_name": "LayoutModel",
      "state": {
       "visibility": "hidden"
      }
     },
     "7b8071767cf141f8b327d98a436c3ff7": {
      "model_module": "@jupyter-widgets/controls",
      "model_module_version": "2.0.0",
      "model_name": "HTMLStyleModel",
      "state": {
       "description_width": "",
       "font_size": null,
       "text_color": null
      }
     },
     "7dc247555ca9413986b34d13c56887cc": {
      "model_module": "@jupyter-widgets/base",
      "model_module_version": "2.0.0",
      "model_name": "LayoutModel",
      "state": {}
     },
     "7ec24ed9f2804932883a20acf9df4729": {
      "model_module": "@jupyter-widgets/base",
      "model_module_version": "2.0.0",
      "model_name": "LayoutModel",
      "state": {
       "visibility": "hidden"
      }
     },
     "7fb7d858b0964224abd93504b1fd943b": {
      "model_module": "@jupyter-widgets/controls",
      "model_module_version": "2.0.0",
      "model_name": "HTMLModel",
      "state": {
       "layout": "IPY_MODEL_01a0c89c0c6d43e2bc4ad068d01e9915",
       "style": "IPY_MODEL_af19c700c4c54ea098f102327a694700",
       "value": " 20/20 [00:02&lt;00:00,  7.77it/s]"
      }
     },
     "7ffb364d62c048fdb82e487469c12288": {
      "model_module": "@jupyter-widgets/base",
      "model_module_version": "2.0.0",
      "model_name": "LayoutModel",
      "state": {}
     },
     "80c95066ac024da8bbaa731fdfadd918": {
      "model_module": "@jupyter-widgets/controls",
      "model_module_version": "2.0.0",
      "model_name": "HTMLModel",
      "state": {
       "layout": "IPY_MODEL_4774d60e2bce436884c320f97005a646",
       "style": "IPY_MODEL_4f83442bb77243118ed27de30025afca",
       "value": " 638/638 [00:02&lt;00:00, 235.36it/s]"
      }
     },
     "80f05b7468b64227906b23e0378772d4": {
      "model_module": "@jupyter-widgets/base",
      "model_module_version": "2.0.0",
      "model_name": "LayoutModel",
      "state": {}
     },
     "81df3da1cc07419bab7bb7c3a27dc7bf": {
      "model_module": "@jupyter-widgets/controls",
      "model_module_version": "2.0.0",
      "model_name": "FloatProgressModel",
      "state": {
       "layout": "IPY_MODEL_78bda903c01f44f68bd6f43c6000a8c3",
       "max": 80,
       "style": "IPY_MODEL_9194e9dad5cb455cba7a638dfe89beff",
       "value": 80
      }
     },
     "82c891fa7bd14ca79895b56b0d739e5b": {
      "model_module": "@jupyter-widgets/controls",
      "model_module_version": "2.0.0",
      "model_name": "HTMLModel",
      "state": {
       "layout": "IPY_MODEL_31ce378d213948c5a4691240755752bc",
       "style": "IPY_MODEL_a93b2521b9b6462ab421f2c4c8e6e4d7",
       "value": " 80/80 [00:13&lt;00:00,  6.34it/s]"
      }
     },
     "83099a5191f7431d9d90d6aeb6f97bfb": {
      "model_module": "@jupyter-widgets/controls",
      "model_module_version": "2.0.0",
      "model_name": "ProgressStyleModel",
      "state": {
       "description_width": ""
      }
     },
     "831925565d1648f0964374ce1354bfe7": {
      "model_module": "@jupyter-widgets/base",
      "model_module_version": "2.0.0",
      "model_name": "LayoutModel",
      "state": {}
     },
     "84598cd2268d46c2a1991b99201e135d": {
      "model_module": "@jupyter-widgets/base",
      "model_module_version": "2.0.0",
      "model_name": "LayoutModel",
      "state": {}
     },
     "847f155ef66f49cebf2affc619ae3c0e": {
      "model_module": "@jupyter-widgets/base",
      "model_module_version": "2.0.0",
      "model_name": "LayoutModel",
      "state": {
       "visibility": "hidden"
      }
     },
     "85cca91bc70344cb8d3be72f87a8fd8d": {
      "model_module": "@jupyter-widgets/base",
      "model_module_version": "2.0.0",
      "model_name": "LayoutModel",
      "state": {}
     },
     "88513f7d4f9e4b54807c053659f7ab97": {
      "model_module": "@jupyter-widgets/base",
      "model_module_version": "2.0.0",
      "model_name": "LayoutModel",
      "state": {}
     },
     "8914ff59f62648248419fa9e33bd8af8": {
      "model_module": "@jupyter-widgets/controls",
      "model_module_version": "2.0.0",
      "model_name": "HTMLModel",
      "state": {
       "layout": "IPY_MODEL_df277f7805b946b1a70f76e8efcf85f7",
       "style": "IPY_MODEL_50292fde96ea4813bbcab886f1ed9ae9",
       "value": " 2553/2553 [00:11&lt;00:00, 223.99it/s]"
      }
     },
     "89334dc35dca49ad969126ac16bfada8": {
      "model_module": "@jupyter-widgets/controls",
      "model_module_version": "2.0.0",
      "model_name": "HTMLStyleModel",
      "state": {
       "description_width": "",
       "font_size": null,
       "text_color": null
      }
     },
     "8a149f36e6d2444daf9f46a81410855d": {
      "model_module": "@jupyter-widgets/controls",
      "model_module_version": "2.0.0",
      "model_name": "HTMLModel",
      "state": {
       "layout": "IPY_MODEL_3ab711a74c31424fac319369f1529199",
       "style": "IPY_MODEL_24b3df493e9b418091088f0cda788e04",
       "value": "Scoring: 100%"
      }
     },
     "8b10d83484444c639ffe42220629862a": {
      "model_module": "@jupyter-widgets/controls",
      "model_module_version": "2.0.0",
      "model_name": "ProgressStyleModel",
      "state": {
       "description_width": ""
      }
     },
     "8d0db5f8eecf43ed843ee3bad38084f3": {
      "model_module": "@jupyter-widgets/base",
      "model_module_version": "2.0.0",
      "model_name": "LayoutModel",
      "state": {}
     },
     "8e95ec0d6be84892a627b6fc6140e091": {
      "model_module": "@jupyter-widgets/controls",
      "model_module_version": "2.0.0",
      "model_name": "HTMLStyleModel",
      "state": {
       "description_width": "",
       "font_size": null,
       "text_color": null
      }
     },
     "8f1ba4b1357641d7bb5f1d6a94852e9b": {
      "model_module": "@jupyter-widgets/controls",
      "model_module_version": "2.0.0",
      "model_name": "FloatProgressModel",
      "state": {
       "layout": "IPY_MODEL_911874e8b0bd401f882ec0b19698bcf3",
       "max": 20,
       "style": "IPY_MODEL_9c3130b220cf4a98825d31bce05c4c49",
       "value": 20
      }
     },
     "90d4c900cd7248d2b79ffbadf32167c1": {
      "model_module": "@jupyter-widgets/controls",
      "model_module_version": "2.0.0",
      "model_name": "HTMLStyleModel",
      "state": {
       "description_width": "",
       "font_size": null,
       "text_color": null
      }
     },
     "911874e8b0bd401f882ec0b19698bcf3": {
      "model_module": "@jupyter-widgets/base",
      "model_module_version": "2.0.0",
      "model_name": "LayoutModel",
      "state": {}
     },
     "9194e9dad5cb455cba7a638dfe89beff": {
      "model_module": "@jupyter-widgets/controls",
      "model_module_version": "2.0.0",
      "model_name": "ProgressStyleModel",
      "state": {
       "description_width": ""
      }
     },
     "921701fcb7004bcb80dcb2381b10f992": {
      "model_module": "@jupyter-widgets/controls",
      "model_module_version": "2.0.0",
      "model_name": "HTMLStyleModel",
      "state": {
       "description_width": "",
       "font_size": null,
       "text_color": null
      }
     },
     "923fd31117124906a3c23b53ef3466b3": {
      "model_module": "@jupyter-widgets/controls",
      "model_module_version": "2.0.0",
      "model_name": "HTMLStyleModel",
      "state": {
       "description_width": "",
       "font_size": null,
       "text_color": null
      }
     },
     "92a29be930bb47469e909391040a2861": {
      "model_module": "@jupyter-widgets/controls",
      "model_module_version": "2.0.0",
      "model_name": "HTMLStyleModel",
      "state": {
       "description_width": "",
       "font_size": null,
       "text_color": null
      }
     },
     "92a58d7816cd4311b3177a001135ae9d": {
      "model_module": "@jupyter-widgets/controls",
      "model_module_version": "2.0.0",
      "model_name": "HTMLStyleModel",
      "state": {
       "description_width": "",
       "font_size": null,
       "text_color": null
      }
     },
     "93a788d59df84cdab3831b7aaf8e4640": {
      "model_module": "@jupyter-widgets/base",
      "model_module_version": "2.0.0",
      "model_name": "LayoutModel",
      "state": {}
     },
     "949a761ee4a341c5b2fcaffbb2cc212d": {
      "model_module": "@jupyter-widgets/controls",
      "model_module_version": "2.0.0",
      "model_name": "HTMLModel",
      "state": {
       "layout": "IPY_MODEL_546dbb7fbbab48e78e5082554f0eed05",
       "style": "IPY_MODEL_c3d10fededde42a1955ae1452cfb7016",
       "value": "Scoring: 100%"
      }
     },
     "94b770c5e92242b2803d10cfb1a76310": {
      "model_module": "@jupyter-widgets/controls",
      "model_module_version": "2.0.0",
      "model_name": "HTMLStyleModel",
      "state": {
       "description_width": "",
       "font_size": null,
       "text_color": null
      }
     },
     "955ddcfda82c40fcb31869b3fca347e9": {
      "model_module": "@jupyter-widgets/base",
      "model_module_version": "2.0.0",
      "model_name": "LayoutModel",
      "state": {
       "visibility": "hidden"
      }
     },
     "958facd001a942c5b2d1c839f4f587d5": {
      "model_module": "@jupyter-widgets/controls",
      "model_module_version": "2.0.0",
      "model_name": "FloatProgressModel",
      "state": {
       "layout": "IPY_MODEL_6bfb635c5d874f989e8ef07e43943c7a",
       "max": 80,
       "style": "IPY_MODEL_8b10d83484444c639ffe42220629862a",
       "value": 80
      }
     },
     "95ed568a95a949e7b9c0c59aa1b75077": {
      "model_module": "@jupyter-widgets/base",
      "model_module_version": "2.0.0",
      "model_name": "LayoutModel",
      "state": {
       "visibility": "hidden"
      }
     },
     "963199f6ba624430b4d2ff83d4eaa432": {
      "model_module": "@jupyter-widgets/controls",
      "model_module_version": "2.0.0",
      "model_name": "ProgressStyleModel",
      "state": {
       "description_width": ""
      }
     },
     "96726a4463904f86b544502cabf34dee": {
      "model_module": "@jupyter-widgets/base",
      "model_module_version": "2.0.0",
      "model_name": "LayoutModel",
      "state": {}
     },
     "96e4abd5da56441babd709e18f94b66a": {
      "model_module": "@jupyter-widgets/controls",
      "model_module_version": "2.0.0",
      "model_name": "ProgressStyleModel",
      "state": {
       "description_width": ""
      }
     },
     "971c82f1fe0d407bb26088ab84bd7836": {
      "model_module": "@jupyter-widgets/controls",
      "model_module_version": "2.0.0",
      "model_name": "HTMLModel",
      "state": {
       "layout": "IPY_MODEL_b06d5777706a44d6a66ed6e19072cdbc",
       "style": "IPY_MODEL_9cb01485262143a082a868e686c2170d",
       "value": " 80/80 [00:10&lt;00:00,  7.82it/s]"
      }
     },
     "97232082ba134b20a5bfc6ad7d497f92": {
      "model_module": "@jupyter-widgets/base",
      "model_module_version": "2.0.0",
      "model_name": "LayoutModel",
      "state": {}
     },
     "98699dadb5bf4244bc81c625f6b5a184": {
      "model_module": "@jupyter-widgets/controls",
      "model_module_version": "2.0.0",
      "model_name": "ProgressStyleModel",
      "state": {
       "description_width": ""
      }
     },
     "98a3e51f72a145648e3fc3d5bc97dbd7": {
      "model_module": "@jupyter-widgets/base",
      "model_module_version": "2.0.0",
      "model_name": "LayoutModel",
      "state": {}
     },
     "9ae16d92021b43bd859ebf445d5f9f10": {
      "model_module": "@jupyter-widgets/controls",
      "model_module_version": "2.0.0",
      "model_name": "HTMLModel",
      "state": {
       "layout": "IPY_MODEL_f70b42a3e4834d5eb72fdc3f9cae5c21",
       "style": "IPY_MODEL_24c8cfa0e1a642728956090064ccc8c3",
       "value": "Training: 100%"
      }
     },
     "9b60c1db72f144cd82bae5b00f29c11a": {
      "model_module": "@jupyter-widgets/base",
      "model_module_version": "2.0.0",
      "model_name": "LayoutModel",
      "state": {}
     },
     "9bcb56dec3764f9b9419bb2d07715bc5": {
      "model_module": "@jupyter-widgets/base",
      "model_module_version": "2.0.0",
      "model_name": "LayoutModel",
      "state": {
       "visibility": "hidden"
      }
     },
     "9c3130b220cf4a98825d31bce05c4c49": {
      "model_module": "@jupyter-widgets/controls",
      "model_module_version": "2.0.0",
      "model_name": "ProgressStyleModel",
      "state": {
       "description_width": ""
      }
     },
     "9c3278cc68ee468385c4b33db5811c56": {
      "model_module": "@jupyter-widgets/controls",
      "model_module_version": "2.0.0",
      "model_name": "FloatProgressModel",
      "state": {
       "layout": "IPY_MODEL_2985104e436e48d2891d095f8bf2951d",
       "max": 20,
       "style": "IPY_MODEL_1a6d52dcbed64c519dd945bb22eca8ad",
       "value": 20
      }
     },
     "9c8040d19d8e4922a1b85b8bfa67f639": {
      "model_module": "@jupyter-widgets/base",
      "model_module_version": "2.0.0",
      "model_name": "LayoutModel",
      "state": {}
     },
     "9cb01485262143a082a868e686c2170d": {
      "model_module": "@jupyter-widgets/controls",
      "model_module_version": "2.0.0",
      "model_name": "HTMLStyleModel",
      "state": {
       "description_width": "",
       "font_size": null,
       "text_color": null
      }
     },
     "9d342f56383348aa802a77c619a5df46": {
      "model_module": "@jupyter-widgets/controls",
      "model_module_version": "2.0.0",
      "model_name": "HTMLStyleModel",
      "state": {
       "description_width": "",
       "font_size": null,
       "text_color": null
      }
     },
     "9d73addb33384b0db0c8b21222c6ed49": {
      "model_module": "@jupyter-widgets/base",
      "model_module_version": "2.0.0",
      "model_name": "LayoutModel",
      "state": {}
     },
     "9f7b8155e6b74f629dbc0fdd57635385": {
      "model_module": "@jupyter-widgets/base",
      "model_module_version": "2.0.0",
      "model_name": "LayoutModel",
      "state": {}
     },
     "9fe7e2a8922c4c868133fd9d61dc327f": {
      "model_module": "@jupyter-widgets/base",
      "model_module_version": "2.0.0",
      "model_name": "LayoutModel",
      "state": {
       "visibility": "hidden"
      }
     },
     "a016d86c15f84fae9b63f3f1b042053f": {
      "model_module": "@jupyter-widgets/base",
      "model_module_version": "2.0.0",
      "model_name": "LayoutModel",
      "state": {}
     },
     "a25084ec4cdc4d958abe74fdb5001ee2": {
      "model_module": "@jupyter-widgets/controls",
      "model_module_version": "2.0.0",
      "model_name": "HBoxModel",
      "state": {
       "children": [
        "IPY_MODEL_f8480856ab174642b756270e42dba6d3",
        "IPY_MODEL_f8b630addfae4439a6c13ddf150e8ec8",
        "IPY_MODEL_80c95066ac024da8bbaa731fdfadd918"
       ],
       "layout": "IPY_MODEL_679654ecf9694694bae3fa2a14a895b5"
      }
     },
     "a260d9437cad4325a86db9294c1b30d5": {
      "model_module": "@jupyter-widgets/base",
      "model_module_version": "2.0.0",
      "model_name": "LayoutModel",
      "state": {}
     },
     "a4fe19a70d7b41e997907509cb673eb6": {
      "model_module": "@jupyter-widgets/controls",
      "model_module_version": "2.0.0",
      "model_name": "HTMLModel",
      "state": {
       "layout": "IPY_MODEL_4486f8d8b7254186846242bc16497da4",
       "style": "IPY_MODEL_92a29be930bb47469e909391040a2861",
       "value": " 80/80 [00:13&lt;00:00,  6.48it/s]"
      }
     },
     "a5a7998301a14d9f8bd244103f5eba01": {
      "model_module": "@jupyter-widgets/controls",
      "model_module_version": "2.0.0",
      "model_name": "HTMLModel",
      "state": {
       "layout": "IPY_MODEL_9c8040d19d8e4922a1b85b8bfa67f639",
       "style": "IPY_MODEL_cb76733838b94ef9829c3f82bc271476",
       "value": " 20/20 [00:02&lt;00:00,  7.77it/s]"
      }
     },
     "a5f718dc76d64e959deddcdb48c3c47b": {
      "model_module": "@jupyter-widgets/controls",
      "model_module_version": "2.0.0",
      "model_name": "ProgressStyleModel",
      "state": {
       "description_width": ""
      }
     },
     "a6cca3192fec44389133026c32a8a6f0": {
      "model_module": "@jupyter-widgets/base",
      "model_module_version": "2.0.0",
      "model_name": "LayoutModel",
      "state": {}
     },
     "a6e76adf42534cde9b00d2f28e341bef": {
      "model_module": "@jupyter-widgets/base",
      "model_module_version": "2.0.0",
      "model_name": "LayoutModel",
      "state": {}
     },
     "a7a4ed340aab41799e92169a695a23eb": {
      "model_module": "@jupyter-widgets/base",
      "model_module_version": "2.0.0",
      "model_name": "LayoutModel",
      "state": {}
     },
     "a7e8bd71d876409c93d6830763ee21f2": {
      "model_module": "@jupyter-widgets/base",
      "model_module_version": "2.0.0",
      "model_name": "LayoutModel",
      "state": {
       "visibility": "hidden"
      }
     },
     "a84e3928d79b44049105e01b6ccf5fae": {
      "model_module": "@jupyter-widgets/controls",
      "model_module_version": "2.0.0",
      "model_name": "HTMLStyleModel",
      "state": {
       "description_width": "",
       "font_size": null,
       "text_color": null
      }
     },
     "a93b2521b9b6462ab421f2c4c8e6e4d7": {
      "model_module": "@jupyter-widgets/controls",
      "model_module_version": "2.0.0",
      "model_name": "HTMLStyleModel",
      "state": {
       "description_width": "",
       "font_size": null,
       "text_color": null
      }
     },
     "aa4a7d4aa610423daa7a237d165fa0f9": {
      "model_module": "@jupyter-widgets/controls",
      "model_module_version": "2.0.0",
      "model_name": "ProgressStyleModel",
      "state": {
       "description_width": ""
      }
     },
     "aa7b8b67329b4799a7b66d25bacb6d7b": {
      "model_module": "@jupyter-widgets/controls",
      "model_module_version": "2.0.0",
      "model_name": "ProgressStyleModel",
      "state": {
       "description_width": ""
      }
     },
     "aa899f6c75f44abc86c2464487bfd6be": {
      "model_module": "@jupyter-widgets/controls",
      "model_module_version": "2.0.0",
      "model_name": "FloatProgressModel",
      "state": {
       "layout": "IPY_MODEL_e22d5629f81448c68a098d5e61edde6c",
       "max": 20,
       "style": "IPY_MODEL_420549c07fc84943a892314a23ccedd1",
       "value": 20
      }
     },
     "ab20f8fc1745419889d2545bdf8654b9": {
      "model_module": "@jupyter-widgets/controls",
      "model_module_version": "2.0.0",
      "model_name": "FloatProgressModel",
      "state": {
       "bar_style": "success",
       "layout": "IPY_MODEL_b7096131285443a1976f504d4e02bf86",
       "max": 2553,
       "style": "IPY_MODEL_556f3b747b034ca4a9dce5cb54a0aa31",
       "value": 2553
      }
     },
     "abbb0acdec3645209c6085207be9ead6": {
      "model_module": "@jupyter-widgets/base",
      "model_module_version": "2.0.0",
      "model_name": "LayoutModel",
      "state": {}
     },
     "ad1cc76a242b426ea3fec2dea050877b": {
      "model_module": "@jupyter-widgets/controls",
      "model_module_version": "2.0.0",
      "model_name": "HTMLModel",
      "state": {
       "layout": "IPY_MODEL_c2166da803924a398b298e951b0e1700",
       "style": "IPY_MODEL_007610bbdd8a41ff963cfa1ccaec53c2",
       "value": " 80/80 [00:13&lt;00:00,  6.11it/s]"
      }
     },
     "ad6a621fa05141a7bfd5dfffba30b195": {
      "model_module": "@jupyter-widgets/base",
      "model_module_version": "2.0.0",
      "model_name": "LayoutModel",
      "state": {}
     },
     "ad7ad882833b459d861ada80e1455e66": {
      "model_module": "@jupyter-widgets/controls",
      "model_module_version": "2.0.0",
      "model_name": "FloatProgressModel",
      "state": {
       "layout": "IPY_MODEL_fd9ea8dc194a4d24a1182ae30fa39611",
       "max": 80,
       "style": "IPY_MODEL_556d308f8d5b41db9f0e2a9cfea5c861",
       "value": 80
      }
     },
     "adb9d39a899146b3856d9556a1ceb460": {
      "model_module": "@jupyter-widgets/controls",
      "model_module_version": "2.0.0",
      "model_name": "FloatProgressModel",
      "state": {
       "layout": "IPY_MODEL_8d0db5f8eecf43ed843ee3bad38084f3",
       "max": 20,
       "style": "IPY_MODEL_5f9b10ff9d2d427886a7ba40e8cb3424",
       "value": 20
      }
     },
     "ae7d476703e54409907ba25ee3234038": {
      "model_module": "@jupyter-widgets/controls",
      "model_module_version": "2.0.0",
      "model_name": "HTMLStyleModel",
      "state": {
       "description_width": "",
       "font_size": null,
       "text_color": null
      }
     },
     "aea63a0b58e04530aa47446bdd7b6b9a": {
      "model_module": "@jupyter-widgets/controls",
      "model_module_version": "2.0.0",
      "model_name": "HTMLStyleModel",
      "state": {
       "description_width": "",
       "font_size": null,
       "text_color": null
      }
     },
     "af19c700c4c54ea098f102327a694700": {
      "model_module": "@jupyter-widgets/controls",
      "model_module_version": "2.0.0",
      "model_name": "HTMLStyleModel",
      "state": {
       "description_width": "",
       "font_size": null,
       "text_color": null
      }
     },
     "af7183a59f694e9a8453c31034bf41eb": {
      "model_module": "@jupyter-widgets/controls",
      "model_module_version": "2.0.0",
      "model_name": "FloatProgressModel",
      "state": {
       "layout": "IPY_MODEL_85cca91bc70344cb8d3be72f87a8fd8d",
       "max": 80,
       "style": "IPY_MODEL_332c9942b6d945808ec5c873aadd03ec",
       "value": 80
      }
     },
     "afe594ece18847d981cecda43ed3b627": {
      "model_module": "@jupyter-widgets/controls",
      "model_module_version": "2.0.0",
      "model_name": "FloatProgressModel",
      "state": {
       "layout": "IPY_MODEL_de34dbf392004039b00dc22b3e6a4163",
       "max": 80,
       "style": "IPY_MODEL_98699dadb5bf4244bc81c625f6b5a184",
       "value": 80
      }
     },
     "b06d5777706a44d6a66ed6e19072cdbc": {
      "model_module": "@jupyter-widgets/base",
      "model_module_version": "2.0.0",
      "model_name": "LayoutModel",
      "state": {}
     },
     "b094321ab14b451c8e79ff352783ffa1": {
      "model_module": "@jupyter-widgets/controls",
      "model_module_version": "2.0.0",
      "model_name": "HTMLModel",
      "state": {
       "layout": "IPY_MODEL_6d278c6174b94e46a4effd7366fa0346",
       "style": "IPY_MODEL_4309cff5786c45e681a99bff175873dc",
       "value": " 80/80 [00:13&lt;00:00,  6.56it/s]"
      }
     },
     "b0d39cc8ce8f442291b63e3a96735c1b": {
      "model_module": "@jupyter-widgets/controls",
      "model_module_version": "2.0.0",
      "model_name": "HTMLModel",
      "state": {
       "layout": "IPY_MODEL_9d73addb33384b0db0c8b21222c6ed49",
       "style": "IPY_MODEL_921701fcb7004bcb80dcb2381b10f992",
       "value": " 80/80 [00:13&lt;00:00,  6.47it/s]"
      }
     },
     "b1d25d1dd94c4c37ae56910c36a59281": {
      "model_module": "@jupyter-widgets/base",
      "model_module_version": "2.0.0",
      "model_name": "LayoutModel",
      "state": {}
     },
     "b42368a101144bdc9cb8fc48fdedc806": {
      "model_module": "@jupyter-widgets/controls",
      "model_module_version": "2.0.0",
      "model_name": "HTMLModel",
      "state": {
       "layout": "IPY_MODEL_e2c38d9308f74a6f933f3d17ab7ef3c6",
       "style": "IPY_MODEL_9d342f56383348aa802a77c619a5df46",
       "value": "Scoring: 100%"
      }
     },
     "b48d27484b034aa98d3f15623fe53735": {
      "model_module": "@jupyter-widgets/controls",
      "model_module_version": "2.0.0",
      "model_name": "HTMLModel",
      "state": {
       "layout": "IPY_MODEL_ad6a621fa05141a7bfd5dfffba30b195",
       "style": "IPY_MODEL_48ac52050a74431aa91e34a06e215baf",
       "value": "Training: 100%"
      }
     },
     "b520a812db8749ecb561b7f78b617a6b": {
      "model_module": "@jupyter-widgets/controls",
      "model_module_version": "2.0.0",
      "model_name": "HTMLModel",
      "state": {
       "layout": "IPY_MODEL_f90f8898c4b54d5d83950979b5428e72",
       "style": "IPY_MODEL_03a182e6eb9d4820ac68de0ac654a5f8",
       "value": "Scoring: 100%"
      }
     },
     "b5a98021ab2445499d5b03aabd934ac2": {
      "model_module": "@jupyter-widgets/controls",
      "model_module_version": "2.0.0",
      "model_name": "HTMLStyleModel",
      "state": {
       "description_width": "",
       "font_size": null,
       "text_color": null
      }
     },
     "b607ef0a8c12422084bbc6a1d2d1e2b4": {
      "model_module": "@jupyter-widgets/controls",
      "model_module_version": "2.0.0",
      "model_name": "FloatProgressModel",
      "state": {
       "layout": "IPY_MODEL_18e88c43f6b44dd7a79d1e94c477d0ed",
       "max": 20,
       "style": "IPY_MODEL_b98e7f0932044cacb87527129dde1df0",
       "value": 20
      }
     },
     "b7096131285443a1976f504d4e02bf86": {
      "model_module": "@jupyter-widgets/base",
      "model_module_version": "2.0.0",
      "model_name": "LayoutModel",
      "state": {}
     },
     "b913d6c06e654a61980b83cbc90e85c6": {
      "model_module": "@jupyter-widgets/base",
      "model_module_version": "2.0.0",
      "model_name": "LayoutModel",
      "state": {}
     },
     "b96d100498f3405f8a5abbc5740b2ecf": {
      "model_module": "@jupyter-widgets/controls",
      "model_module_version": "2.0.0",
      "model_name": "FloatProgressModel",
      "state": {
       "layout": "IPY_MODEL_e302430c5c624102ac96d0cc5d105854",
       "max": 80,
       "style": "IPY_MODEL_19883986424d4c73bb9a97defef92eb7",
       "value": 80
      }
     },
     "b98e7f0932044cacb87527129dde1df0": {
      "model_module": "@jupyter-widgets/controls",
      "model_module_version": "2.0.0",
      "model_name": "ProgressStyleModel",
      "state": {
       "description_width": ""
      }
     },
     "b99db88bcddb4ccca51a10a552c8e385": {
      "model_module": "@jupyter-widgets/controls",
      "model_module_version": "2.0.0",
      "model_name": "HTMLModel",
      "state": {
       "layout": "IPY_MODEL_98a3e51f72a145648e3fc3d5bc97dbd7",
       "style": "IPY_MODEL_90d4c900cd7248d2b79ffbadf32167c1",
       "value": " 20/20 [00:02&lt;00:00,  7.83it/s]"
      }
     },
     "bb1dbb04b1a341aea8e5a4ea772093c7": {
      "model_module": "@jupyter-widgets/controls",
      "model_module_version": "2.0.0",
      "model_name": "HTMLStyleModel",
      "state": {
       "description_width": "",
       "font_size": null,
       "text_color": null
      }
     },
     "bbe2ffd2b1d64d5d907aa98749f8f6d5": {
      "model_module": "@jupyter-widgets/controls",
      "model_module_version": "2.0.0",
      "model_name": "FloatProgressModel",
      "state": {
       "layout": "IPY_MODEL_c3342ead33544f05aa955d6a74435c1c",
       "max": 20,
       "style": "IPY_MODEL_83099a5191f7431d9d90d6aeb6f97bfb",
       "value": 20
      }
     },
     "bc11785dd2d14affa8c4f8598f2a4f7d": {
      "model_module": "@jupyter-widgets/controls",
      "model_module_version": "2.0.0",
      "model_name": "HTMLStyleModel",
      "state": {
       "description_width": "",
       "font_size": null,
       "text_color": null
      }
     },
     "bc80514e3bff406589cda391cb2b9086": {
      "model_module": "@jupyter-widgets/base",
      "model_module_version": "2.0.0",
      "model_name": "LayoutModel",
      "state": {}
     },
     "be05b944acfc422d8d2d1bc6881ad206": {
      "model_module": "@jupyter-widgets/base",
      "model_module_version": "2.0.0",
      "model_name": "LayoutModel",
      "state": {}
     },
     "be61b98c7e5d4306a91bd21ccac29077": {
      "model_module": "@jupyter-widgets/controls",
      "model_module_version": "2.0.0",
      "model_name": "HTMLStyleModel",
      "state": {
       "description_width": "",
       "font_size": null,
       "text_color": null
      }
     },
     "bf5b3640892d4ab5b9d8d590bc07dc16": {
      "model_module": "@jupyter-widgets/base",
      "model_module_version": "2.0.0",
      "model_name": "LayoutModel",
      "state": {}
     },
     "c16e1ad0b27d4b7bad367619ea28892e": {
      "model_module": "@jupyter-widgets/controls",
      "model_module_version": "2.0.0",
      "model_name": "HTMLStyleModel",
      "state": {
       "description_width": "",
       "font_size": null,
       "text_color": null
      }
     },
     "c1c682a383554415898574105ee103fa": {
      "model_module": "@jupyter-widgets/controls",
      "model_module_version": "2.0.0",
      "model_name": "HTMLModel",
      "state": {
       "layout": "IPY_MODEL_7405bc5f5e994b298b15d9fa5c6726a8",
       "style": "IPY_MODEL_6673e45cbd0a48598bb6525921ed98f8",
       "value": "Predicting: 100%"
      }
     },
     "c2166da803924a398b298e951b0e1700": {
      "model_module": "@jupyter-widgets/base",
      "model_module_version": "2.0.0",
      "model_name": "LayoutModel",
      "state": {}
     },
     "c25d6dd4c2714ecdafc5e4b854beaadb": {
      "model_module": "@jupyter-widgets/controls",
      "model_module_version": "2.0.0",
      "model_name": "HTMLModel",
      "state": {
       "layout": "IPY_MODEL_93a788d59df84cdab3831b7aaf8e4640",
       "style": "IPY_MODEL_aea63a0b58e04530aa47446bdd7b6b9a",
       "value": "Training: 100%"
      }
     },
     "c3342ead33544f05aa955d6a74435c1c": {
      "model_module": "@jupyter-widgets/base",
      "model_module_version": "2.0.0",
      "model_name": "LayoutModel",
      "state": {}
     },
     "c3d10fededde42a1955ae1452cfb7016": {
      "model_module": "@jupyter-widgets/controls",
      "model_module_version": "2.0.0",
      "model_name": "HTMLStyleModel",
      "state": {
       "description_width": "",
       "font_size": null,
       "text_color": null
      }
     },
     "c46830d0fcfb46789d5121a69beb65b5": {
      "model_module": "@jupyter-widgets/base",
      "model_module_version": "2.0.0",
      "model_name": "LayoutModel",
      "state": {}
     },
     "c4cbf9e9deea4c22927e2c9b6d1511ec": {
      "model_module": "@jupyter-widgets/controls",
      "model_module_version": "2.0.0",
      "model_name": "HTMLStyleModel",
      "state": {
       "description_width": "",
       "font_size": null,
       "text_color": null
      }
     },
     "c5adf40ec4314810bd7a8e790322cebf": {
      "model_module": "@jupyter-widgets/controls",
      "model_module_version": "2.0.0",
      "model_name": "ProgressStyleModel",
      "state": {
       "description_width": ""
      }
     },
     "c6825ce1d56945b18ed9438ce06dce7b": {
      "model_module": "@jupyter-widgets/base",
      "model_module_version": "2.0.0",
      "model_name": "LayoutModel",
      "state": {}
     },
     "cb76733838b94ef9829c3f82bc271476": {
      "model_module": "@jupyter-widgets/controls",
      "model_module_version": "2.0.0",
      "model_name": "HTMLStyleModel",
      "state": {
       "description_width": "",
       "font_size": null,
       "text_color": null
      }
     },
     "cbf7d45659ed4c31912b54480b9a5316": {
      "model_module": "@jupyter-widgets/base",
      "model_module_version": "2.0.0",
      "model_name": "LayoutModel",
      "state": {}
     },
     "ccb4cb9f3f4441b5b68bd2b1df139889": {
      "model_module": "@jupyter-widgets/controls",
      "model_module_version": "2.0.0",
      "model_name": "HBoxModel",
      "state": {
       "children": [
        "IPY_MODEL_15190f25d9a64900b5c88379de223698",
        "IPY_MODEL_ab20f8fc1745419889d2545bdf8654b9",
        "IPY_MODEL_8914ff59f62648248419fa9e33bd8af8"
       ],
       "layout": "IPY_MODEL_3b2de07539054b58b497fd32022ad76e"
      }
     },
     "cdd65622ed544af997a96dd95d005c16": {
      "model_module": "@jupyter-widgets/controls",
      "model_module_version": "2.0.0",
      "model_name": "HTMLStyleModel",
      "state": {
       "description_width": "",
       "font_size": null,
       "text_color": null
      }
     },
     "ce587fc1e9e3407aa46746344fa53f7e": {
      "model_module": "@jupyter-widgets/base",
      "model_module_version": "2.0.0",
      "model_name": "LayoutModel",
      "state": {}
     },
     "cfe3eeaf091c4901a3d7282517a3ab67": {
      "model_module": "@jupyter-widgets/controls",
      "model_module_version": "2.0.0",
      "model_name": "FloatProgressModel",
      "state": {
       "layout": "IPY_MODEL_4d31469a9ab04e1a99c4479a744236ff",
       "max": 80,
       "style": "IPY_MODEL_779cb01982984a47bf21ab000c6dbb41",
       "value": 80
      }
     },
     "d0840eadf53b472bb6453ae18010d4a6": {
      "model_module": "@jupyter-widgets/base",
      "model_module_version": "2.0.0",
      "model_name": "LayoutModel",
      "state": {}
     },
     "d13a26bd07db49b387d819304b40a8bf": {
      "model_module": "@jupyter-widgets/controls",
      "model_module_version": "2.0.0",
      "model_name": "ProgressStyleModel",
      "state": {
       "description_width": ""
      }
     },
     "d4479a7aacfc449d90df333a2c40c000": {
      "model_module": "@jupyter-widgets/base",
      "model_module_version": "2.0.0",
      "model_name": "LayoutModel",
      "state": {}
     },
     "d4cc2ebbea014ee686897fc0f2f6d0b2": {
      "model_module": "@jupyter-widgets/controls",
      "model_module_version": "2.0.0",
      "model_name": "FloatProgressModel",
      "state": {
       "layout": "IPY_MODEL_2c8151c5bb5b47fc8f388e2a40679209",
       "max": 80,
       "style": "IPY_MODEL_e6fc1a8e76c24ea780883e390b98a152",
       "value": 80
      }
     },
     "d6be3ae972694af7a44e166c9761252f": {
      "model_module": "@jupyter-widgets/controls",
      "model_module_version": "2.0.0",
      "model_name": "ProgressStyleModel",
      "state": {
       "description_width": ""
      }
     },
     "d707f5e792784a0cac1e42480404a764": {
      "model_module": "@jupyter-widgets/controls",
      "model_module_version": "2.0.0",
      "model_name": "HTMLStyleModel",
      "state": {
       "description_width": "",
       "font_size": null,
       "text_color": null
      }
     },
     "d8a6a95935cf48b58580fc178a559c06": {
      "model_module": "@jupyter-widgets/controls",
      "model_module_version": "2.0.0",
      "model_name": "HTMLModel",
      "state": {
       "layout": "IPY_MODEL_f295b9e7342b4ae0b0ac6f318771fa0a",
       "style": "IPY_MODEL_30c135ce8b2c4c58ba0128c9038ba49a",
       "value": " 20/20 [00:02&lt;00:00,  7.56it/s]"
      }
     },
     "d8b89f48f5c348818eff32d59ecbfb7a": {
      "model_module": "@jupyter-widgets/controls",
      "model_module_version": "2.0.0",
      "model_name": "ProgressStyleModel",
      "state": {
       "description_width": ""
      }
     },
     "d92ef57b875e4971af193a0706f09a61": {
      "model_module": "@jupyter-widgets/controls",
      "model_module_version": "2.0.0",
      "model_name": "HTMLStyleModel",
      "state": {
       "description_width": "",
       "font_size": null,
       "text_color": null
      }
     },
     "d97c6788b07e4590b70cdf8e01549233": {
      "model_module": "@jupyter-widgets/base",
      "model_module_version": "2.0.0",
      "model_name": "LayoutModel",
      "state": {}
     },
     "db6415b1875e44f081292ec771bd7ba1": {
      "model_module": "@jupyter-widgets/controls",
      "model_module_version": "2.0.0",
      "model_name": "HTMLStyleModel",
      "state": {
       "description_width": "",
       "font_size": null,
       "text_color": null
      }
     },
     "de34dbf392004039b00dc22b3e6a4163": {
      "model_module": "@jupyter-widgets/base",
      "model_module_version": "2.0.0",
      "model_name": "LayoutModel",
      "state": {}
     },
     "dec7977aa2784a95955179796d847175": {
      "model_module": "@jupyter-widgets/base",
      "model_module_version": "2.0.0",
      "model_name": "LayoutModel",
      "state": {}
     },
     "df277f7805b946b1a70f76e8efcf85f7": {
      "model_module": "@jupyter-widgets/base",
      "model_module_version": "2.0.0",
      "model_name": "LayoutModel",
      "state": {}
     },
     "dfddebad68424ce588408729e280fd3e": {
      "model_module": "@jupyter-widgets/base",
      "model_module_version": "2.0.0",
      "model_name": "LayoutModel",
      "state": {}
     },
     "e09e346cfaae4a2f8623ea346fc9a3c7": {
      "model_module": "@jupyter-widgets/controls",
      "model_module_version": "2.0.0",
      "model_name": "HTMLModel",
      "state": {
       "layout": "IPY_MODEL_77d8b198faa64090a5105e09fd4ac4e9",
       "style": "IPY_MODEL_6e5f4c7e95104cbd9c6c21d81a3b9bf9",
       "value": " 80/80 [00:13&lt;00:00,  6.30it/s]"
      }
     },
     "e12d9a6c1a26428198a199eefe591cda": {
      "model_module": "@jupyter-widgets/controls",
      "model_module_version": "2.0.0",
      "model_name": "HTMLStyleModel",
      "state": {
       "description_width": "",
       "font_size": null,
       "text_color": null
      }
     },
     "e1459fb9ece44460b48cd9da85ac28bc": {
      "model_module": "@jupyter-widgets/base",
      "model_module_version": "2.0.0",
      "model_name": "LayoutModel",
      "state": {}
     },
     "e1d5fc016bd243d7bb66efe4ea9b50de": {
      "model_module": "@jupyter-widgets/controls",
      "model_module_version": "2.0.0",
      "model_name": "HTMLModel",
      "state": {
       "layout": "IPY_MODEL_fc9a321961fc458d841638be6de8979a",
       "style": "IPY_MODEL_eb8927d8fbaa40cb8a9ae73304fc1066",
       "value": "Training: 100%"
      }
     },
     "e22d5629f81448c68a098d5e61edde6c": {
      "model_module": "@jupyter-widgets/base",
      "model_module_version": "2.0.0",
      "model_name": "LayoutModel",
      "state": {}
     },
     "e2c38d9308f74a6f933f3d17ab7ef3c6": {
      "model_module": "@jupyter-widgets/base",
      "model_module_version": "2.0.0",
      "model_name": "LayoutModel",
      "state": {}
     },
     "e302430c5c624102ac96d0cc5d105854": {
      "model_module": "@jupyter-widgets/base",
      "model_module_version": "2.0.0",
      "model_name": "LayoutModel",
      "state": {}
     },
     "e3a4961c746e4c35895c257ec6fbb6be": {
      "model_module": "@jupyter-widgets/base",
      "model_module_version": "2.0.0",
      "model_name": "LayoutModel",
      "state": {}
     },
     "e5d8bc68d7b540038b388d005d1fcd34": {
      "model_module": "@jupyter-widgets/base",
      "model_module_version": "2.0.0",
      "model_name": "LayoutModel",
      "state": {}
     },
     "e6fc1a8e76c24ea780883e390b98a152": {
      "model_module": "@jupyter-widgets/controls",
      "model_module_version": "2.0.0",
      "model_name": "ProgressStyleModel",
      "state": {
       "description_width": ""
      }
     },
     "e9dba8016803417b91facd831c7cb966": {
      "model_module": "@jupyter-widgets/controls",
      "model_module_version": "2.0.0",
      "model_name": "FloatProgressModel",
      "state": {
       "layout": "IPY_MODEL_e1459fb9ece44460b48cd9da85ac28bc",
       "max": 20,
       "style": "IPY_MODEL_2bfba0b6c9df41beb3bead50e726a7d8",
       "value": 20
      }
     },
     "ead7b08f14ee4ce1adaf2fef9626efa0": {
      "model_module": "@jupyter-widgets/controls",
      "model_module_version": "2.0.0",
      "model_name": "HTMLStyleModel",
      "state": {
       "description_width": "",
       "font_size": null,
       "text_color": null
      }
     },
     "eb826fb3c8424879b837735f72e4622c": {
      "model_module": "@jupyter-widgets/controls",
      "model_module_version": "2.0.0",
      "model_name": "HTMLModel",
      "state": {
       "layout": "IPY_MODEL_f0d4ffbec036402d912804565663285d",
       "style": "IPY_MODEL_7968713eea0d4ef4856efaf3f3ba7020",
       "value": "Training: 100%"
      }
     },
     "eb8927d8fbaa40cb8a9ae73304fc1066": {
      "model_module": "@jupyter-widgets/controls",
      "model_module_version": "2.0.0",
      "model_name": "HTMLStyleModel",
      "state": {
       "description_width": "",
       "font_size": null,
       "text_color": null
      }
     },
     "edb54d78cf92478b8a5e4ffe0fda1d03": {
      "model_module": "@jupyter-widgets/controls",
      "model_module_version": "2.0.0",
      "model_name": "HTMLStyleModel",
      "state": {
       "description_width": "",
       "font_size": null,
       "text_color": null
      }
     },
     "f0689a0b328d456a8d2d5486ce34df0d": {
      "model_module": "@jupyter-widgets/base",
      "model_module_version": "2.0.0",
      "model_name": "LayoutModel",
      "state": {}
     },
     "f0d4ffbec036402d912804565663285d": {
      "model_module": "@jupyter-widgets/base",
      "model_module_version": "2.0.0",
      "model_name": "LayoutModel",
      "state": {}
     },
     "f295b9e7342b4ae0b0ac6f318771fa0a": {
      "model_module": "@jupyter-widgets/base",
      "model_module_version": "2.0.0",
      "model_name": "LayoutModel",
      "state": {}
     },
     "f3d7190f89ea4b0ea13cec36fa471edb": {
      "model_module": "@jupyter-widgets/controls",
      "model_module_version": "2.0.0",
      "model_name": "FloatProgressModel",
      "state": {
       "layout": "IPY_MODEL_27766470134843c38d517e4bbc7d47f5",
       "max": 80,
       "style": "IPY_MODEL_aa7b8b67329b4799a7b66d25bacb6d7b",
       "value": 80
      }
     },
     "f4b83e8093f0468f96ef438ca6213f9f": {
      "model_module": "@jupyter-widgets/controls",
      "model_module_version": "2.0.0",
      "model_name": "HTMLStyleModel",
      "state": {
       "description_width": "",
       "font_size": null,
       "text_color": null
      }
     },
     "f4fa17018e7e4c4eb71378f2176a8d9d": {
      "model_module": "@jupyter-widgets/controls",
      "model_module_version": "2.0.0",
      "model_name": "HTMLModel",
      "state": {
       "layout": "IPY_MODEL_6be1f82dd2b24ff79c1959ee5f0110a2",
       "style": "IPY_MODEL_1512f3b7447947d28393cac195bfada3",
       "value": " 20/20 [00:02&lt;00:00,  7.88it/s]"
      }
     },
     "f643ca31e08245018c33ea534dd87dbc": {
      "model_module": "@jupyter-widgets/base",
      "model_module_version": "2.0.0",
      "model_name": "LayoutModel",
      "state": {}
     },
     "f70b42a3e4834d5eb72fdc3f9cae5c21": {
      "model_module": "@jupyter-widgets/base",
      "model_module_version": "2.0.0",
      "model_name": "LayoutModel",
      "state": {}
     },
     "f711852f843e44529fa6454989dbcf3e": {
      "model_module": "@jupyter-widgets/base",
      "model_module_version": "2.0.0",
      "model_name": "LayoutModel",
      "state": {}
     },
     "f7294841d4dd4147bb9f3ef70c7e06a0": {
      "model_module": "@jupyter-widgets/controls",
      "model_module_version": "2.0.0",
      "model_name": "FloatProgressModel",
      "state": {
       "layout": "IPY_MODEL_9b60c1db72f144cd82bae5b00f29c11a",
       "max": 80,
       "style": "IPY_MODEL_570ee447c3ac452e8674ae9e159a86ab",
       "value": 80
      }
     },
     "f8480856ab174642b756270e42dba6d3": {
      "model_module": "@jupyter-widgets/controls",
      "model_module_version": "2.0.0",
      "model_name": "HTMLModel",
      "state": {
       "layout": "IPY_MODEL_f0689a0b328d456a8d2d5486ce34df0d",
       "style": "IPY_MODEL_e12d9a6c1a26428198a199eefe591cda",
       "value": "100%"
      }
     },
     "f8b630addfae4439a6c13ddf150e8ec8": {
      "model_module": "@jupyter-widgets/controls",
      "model_module_version": "2.0.0",
      "model_name": "FloatProgressModel",
      "state": {
       "bar_style": "success",
       "layout": "IPY_MODEL_bf5b3640892d4ab5b9d8d590bc07dc16",
       "max": 638,
       "style": "IPY_MODEL_d13a26bd07db49b387d819304b40a8bf",
       "value": 638
      }
     },
     "f902480352ef428ea0c06878c24d9d9c": {
      "model_module": "@jupyter-widgets/controls",
      "model_module_version": "2.0.0",
      "model_name": "HTMLModel",
      "state": {
       "layout": "IPY_MODEL_831925565d1648f0964374ce1354bfe7",
       "style": "IPY_MODEL_89334dc35dca49ad969126ac16bfada8",
       "value": " 20/20 [00:02&lt;00:00,  7.76it/s]"
      }
     },
     "f90f8898c4b54d5d83950979b5428e72": {
      "model_module": "@jupyter-widgets/base",
      "model_module_version": "2.0.0",
      "model_name": "LayoutModel",
      "state": {}
     },
     "f98e209a15bd4c58bc3ab187d40d0982": {
      "model_module": "@jupyter-widgets/controls",
      "model_module_version": "2.0.0",
      "model_name": "HTMLModel",
      "state": {
       "layout": "IPY_MODEL_f643ca31e08245018c33ea534dd87dbc",
       "style": "IPY_MODEL_d707f5e792784a0cac1e42480404a764",
       "value": " 20/20 [00:02&lt;00:00,  7.68it/s]"
      }
     },
     "face27c8579040dd9339a899e35470e9": {
      "model_module": "@jupyter-widgets/controls",
      "model_module_version": "2.0.0",
      "model_name": "HTMLModel",
      "state": {
       "layout": "IPY_MODEL_96726a4463904f86b544502cabf34dee",
       "style": "IPY_MODEL_1156376c833542baae20c4d56ca3ee7e",
       "value": "Scoring: 100%"
      }
     },
     "fad6a124a4ea4a768d43e29d83cb02db": {
      "model_module": "@jupyter-widgets/base",
      "model_module_version": "2.0.0",
      "model_name": "LayoutModel",
      "state": {}
     },
     "fb151b7cd9d54983b2c84cb3f5679887": {
      "model_module": "@jupyter-widgets/base",
      "model_module_version": "2.0.0",
      "model_name": "LayoutModel",
      "state": {}
     },
     "fc2c858894584c6eb57d410041f8a172": {
      "model_module": "@jupyter-widgets/base",
      "model_module_version": "2.0.0",
      "model_name": "LayoutModel",
      "state": {
       "visibility": "hidden"
      }
     },
     "fc9a321961fc458d841638be6de8979a": {
      "model_module": "@jupyter-widgets/base",
      "model_module_version": "2.0.0",
      "model_name": "LayoutModel",
      "state": {}
     },
     "fca3e33b51ef44039e4daf7d5b575009": {
      "model_module": "@jupyter-widgets/controls",
      "model_module_version": "2.0.0",
      "model_name": "HTMLStyleModel",
      "state": {
       "description_width": "",
       "font_size": null,
       "text_color": null
      }
     },
     "fcadc1dac6d747998d6eaa1d60a78f43": {
      "model_module": "@jupyter-widgets/base",
      "model_module_version": "2.0.0",
      "model_name": "LayoutModel",
      "state": {}
     },
     "fd1864caf0a54dfe8eb7fbaa1a92aa7d": {
      "model_module": "@jupyter-widgets/controls",
      "model_module_version": "2.0.0",
      "model_name": "HTMLModel",
      "state": {
       "layout": "IPY_MODEL_84598cd2268d46c2a1991b99201e135d",
       "style": "IPY_MODEL_fca3e33b51ef44039e4daf7d5b575009",
       "value": "Scoring: 100%"
      }
     },
     "fd9ea8dc194a4d24a1182ae30fa39611": {
      "model_module": "@jupyter-widgets/base",
      "model_module_version": "2.0.0",
      "model_name": "LayoutModel",
      "state": {}
     },
     "fecc5add0f08417188580305dcd91e2d": {
      "model_module": "@jupyter-widgets/base",
      "model_module_version": "2.0.0",
      "model_name": "LayoutModel",
      "state": {}
     },
     "ff80801a62584484ba8e87f756f9a2c9": {
      "model_module": "@jupyter-widgets/controls",
      "model_module_version": "2.0.0",
      "model_name": "HTMLModel",
      "state": {
       "layout": "IPY_MODEL_295583a44eea4c28a23f2a41b4f02036",
       "style": "IPY_MODEL_6d33e08d1a224c9e896797ef4df6f25a",
       "value": "Scoring: 100%"
      }
     }
    },
    "version_major": 2,
    "version_minor": 0
   }
  }
 },
 "nbformat": 4,
 "nbformat_minor": 4
}
